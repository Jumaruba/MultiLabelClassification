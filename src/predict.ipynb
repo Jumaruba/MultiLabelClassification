{
 "cells": [
  {
   "cell_type": "code",
   "execution_count": 2,
   "metadata": {},
   "outputs": [],
   "source": [
    "import pandas as pd \n",
    "import re\n",
    "import nltk \n",
    "from nltk.stem.porter import PorterStemmer\n",
    "from nltk.corpus import stopwords\n",
    "from sklearn.feature_extraction.text import CountVectorizer\n",
    "from sklearn.model_selection import train_test_split\n",
    "import matplotlib.pyplot as plt\n",
    "import numpy as np \n",
    "#train models \n",
    "from sklearn.naive_bayes import GaussianNB\n",
    "from sklearn.metrics import confusion_matrix\n",
    "from sklearn.metrics import accuracy_score\n",
    "from sklearn.metrics import precision_score\n",
    "from sklearn.metrics import recall_score\n",
    "from sklearn.metrics import f1_score\n",
    "import seaborn as sn\n",
    "import matplotlib.pyplot as plt\n",
    "from imblearn.over_sampling import SMOTE"
   ]
  },
  {
   "cell_type": "code",
   "execution_count": 3,
   "metadata": {},
   "outputs": [],
   "source": [
    "# Setting up stats dataframe\n",
    "import time\n",
    "stats = pd.DataFrame(columns=['Algorithm','Label','Accurary','Precision','Recall','F1','Time'])"
   ]
  },
  {
   "cell_type": "markdown",
   "metadata": {},
   "source": [
    "# Get the data"
   ]
  },
  {
   "cell_type": "code",
   "execution_count": 4,
   "metadata": {},
   "outputs": [
    {
     "data": {
      "text/html": [
       "<div>\n",
       "<style scoped>\n",
       "    .dataframe tbody tr th:only-of-type {\n",
       "        vertical-align: middle;\n",
       "    }\n",
       "\n",
       "    .dataframe tbody tr th {\n",
       "        vertical-align: top;\n",
       "    }\n",
       "\n",
       "    .dataframe thead th {\n",
       "        text-align: right;\n",
       "    }\n",
       "</style>\n",
       "<table border=\"1\" class=\"dataframe\">\n",
       "  <thead>\n",
       "    <tr style=\"text-align: right;\">\n",
       "      <th></th>\n",
       "      <th>ID</th>\n",
       "      <th>TITLE</th>\n",
       "      <th>ABSTRACT</th>\n",
       "      <th>Computer Science</th>\n",
       "      <th>Physics</th>\n",
       "      <th>Mathematics</th>\n",
       "      <th>Statistics</th>\n",
       "      <th>Quantitative Biology</th>\n",
       "      <th>Quantitative Finance</th>\n",
       "    </tr>\n",
       "  </thead>\n",
       "  <tbody>\n",
       "    <tr>\n",
       "      <th>0</th>\n",
       "      <td>1</td>\n",
       "      <td>Reconstructing Subject-Specific Effect Maps</td>\n",
       "      <td>Predictive models allow subject-specific inf...</td>\n",
       "      <td>1</td>\n",
       "      <td>0</td>\n",
       "      <td>0</td>\n",
       "      <td>0</td>\n",
       "      <td>0</td>\n",
       "      <td>0</td>\n",
       "    </tr>\n",
       "    <tr>\n",
       "      <th>1</th>\n",
       "      <td>2</td>\n",
       "      <td>Rotation Invariance Neural Network</td>\n",
       "      <td>Rotation invariance and translation invarian...</td>\n",
       "      <td>1</td>\n",
       "      <td>0</td>\n",
       "      <td>0</td>\n",
       "      <td>0</td>\n",
       "      <td>0</td>\n",
       "      <td>0</td>\n",
       "    </tr>\n",
       "    <tr>\n",
       "      <th>2</th>\n",
       "      <td>3</td>\n",
       "      <td>Spherical polyharmonics and Poisson kernels fo...</td>\n",
       "      <td>We introduce and develop the notion of spher...</td>\n",
       "      <td>0</td>\n",
       "      <td>0</td>\n",
       "      <td>1</td>\n",
       "      <td>0</td>\n",
       "      <td>0</td>\n",
       "      <td>0</td>\n",
       "    </tr>\n",
       "    <tr>\n",
       "      <th>3</th>\n",
       "      <td>4</td>\n",
       "      <td>A finite element approximation for the stochas...</td>\n",
       "      <td>The stochastic Landau--Lifshitz--Gilbert (LL...</td>\n",
       "      <td>0</td>\n",
       "      <td>0</td>\n",
       "      <td>1</td>\n",
       "      <td>0</td>\n",
       "      <td>0</td>\n",
       "      <td>0</td>\n",
       "    </tr>\n",
       "    <tr>\n",
       "      <th>4</th>\n",
       "      <td>5</td>\n",
       "      <td>Comparative study of Discrete Wavelet Transfor...</td>\n",
       "      <td>Fourier-transform infra-red (FTIR) spectra o...</td>\n",
       "      <td>1</td>\n",
       "      <td>0</td>\n",
       "      <td>0</td>\n",
       "      <td>1</td>\n",
       "      <td>0</td>\n",
       "      <td>0</td>\n",
       "    </tr>\n",
       "  </tbody>\n",
       "</table>\n",
       "</div>"
      ],
      "text/plain": [
       "   ID                                              TITLE  \\\n",
       "0   1        Reconstructing Subject-Specific Effect Maps   \n",
       "1   2                 Rotation Invariance Neural Network   \n",
       "2   3  Spherical polyharmonics and Poisson kernels fo...   \n",
       "3   4  A finite element approximation for the stochas...   \n",
       "4   5  Comparative study of Discrete Wavelet Transfor...   \n",
       "\n",
       "                                            ABSTRACT  Computer Science  \\\n",
       "0    Predictive models allow subject-specific inf...                 1   \n",
       "1    Rotation invariance and translation invarian...                 1   \n",
       "2    We introduce and develop the notion of spher...                 0   \n",
       "3    The stochastic Landau--Lifshitz--Gilbert (LL...                 0   \n",
       "4    Fourier-transform infra-red (FTIR) spectra o...                 1   \n",
       "\n",
       "   Physics  Mathematics  Statistics  Quantitative Biology  \\\n",
       "0        0            0           0                     0   \n",
       "1        0            0           0                     0   \n",
       "2        0            1           0                     0   \n",
       "3        0            1           0                     0   \n",
       "4        0            0           1                     0   \n",
       "\n",
       "   Quantitative Finance  \n",
       "0                     0  \n",
       "1                     0  \n",
       "2                     0  \n",
       "3                     0  \n",
       "4                     0  "
      ]
     },
     "execution_count": 4,
     "metadata": {},
     "output_type": "execute_result"
    }
   ],
   "source": [
    "train = pd.read_csv('../data/train.csv')\n",
    "test = pd.read_csv('../data/test.csv')\n",
    "train.head()"
   ]
  },
  {
   "cell_type": "markdown",
   "metadata": {},
   "source": [
    "# Cleaning data"
   ]
  },
  {
   "cell_type": "markdown",
   "metadata": {},
   "source": [
    "## Preprocessing words"
   ]
  },
  {
   "cell_type": "code",
   "execution_count": 6,
   "metadata": {
    "tags": []
   },
   "outputs": [
    {
     "ename": "NameError",
     "evalue": "name 'train' is not defined",
     "output_type": "error",
     "traceback": [
      "\u001b[0;31m---------------------------------------------------------------------------\u001b[0m",
      "\u001b[0;31mNameError\u001b[0m                                 Traceback (most recent call last)",
      "\u001b[0;32m<ipython-input-6-11cbaae992d6>\u001b[0m in \u001b[0;36m<module>\u001b[0;34m\u001b[0m\n\u001b[1;32m     18\u001b[0m     \u001b[0mdf\u001b[0m\u001b[0;34m.\u001b[0m\u001b[0mto_csv\u001b[0m\u001b[0;34m(\u001b[0m\u001b[0mfile_name\u001b[0m\u001b[0;34m)\u001b[0m\u001b[0;34m\u001b[0m\u001b[0;34m\u001b[0m\u001b[0m\n\u001b[1;32m     19\u001b[0m \u001b[0;34m\u001b[0m\u001b[0m\n\u001b[0;32m---> 20\u001b[0;31m \u001b[0mtrain\u001b[0m\u001b[0;34m[\u001b[0m\u001b[0;34m'ABSTRACT'\u001b[0m\u001b[0;34m]\u001b[0m \u001b[0;34m=\u001b[0m \u001b[0mtrain\u001b[0m\u001b[0;34m[\u001b[0m\u001b[0;34m'TITLE'\u001b[0m\u001b[0;34m]\u001b[0m \u001b[0;34m+\u001b[0m\u001b[0mtrain\u001b[0m\u001b[0;34m[\u001b[0m\u001b[0;34m'ABSTRACT'\u001b[0m\u001b[0;34m]\u001b[0m\u001b[0;34m\u001b[0m\u001b[0;34m\u001b[0m\u001b[0m\n\u001b[0m\u001b[1;32m     21\u001b[0m \u001b[0mcorpus_train\u001b[0m \u001b[0;34m=\u001b[0m \u001b[0mnormalize\u001b[0m\u001b[0;34m(\u001b[0m\u001b[0mtrain\u001b[0m\u001b[0;34m)\u001b[0m\u001b[0;34m\u001b[0m\u001b[0;34m\u001b[0m\u001b[0m\n\u001b[1;32m     22\u001b[0m \u001b[0msave_csv\u001b[0m\u001b[0;34m(\u001b[0m\u001b[0mcorpus_train\u001b[0m\u001b[0;34m,\u001b[0m \u001b[0;34m'preprocessed_train.csv'\u001b[0m\u001b[0;34m)\u001b[0m\u001b[0;34m\u001b[0m\u001b[0;34m\u001b[0m\u001b[0m\n",
      "\u001b[0;31mNameError\u001b[0m: name 'train' is not defined"
     ]
    }
   ],
   "source": [
    "def normalize(df): \n",
    "    corpus = []\n",
    "    ps = PorterStemmer()\n",
    "    df_size = len(df) \n",
    "    for i in range(0,df_size):\n",
    "        # get review and remove non alpha chars\n",
    "        article = re.sub('[^a-zA-Z]', ' ', df['ABSTRACT'][i])\n",
    "        # to lower-case and tokenize\n",
    "        article = article.lower().split()\n",
    "        # stemming and stop word removal\n",
    "        article = ' '.join([ps.stem(w) for w in article if not w in set(stopwords.words('english'))])\n",
    "        corpus.append(article)\n",
    "    return corpus\n",
    "\n",
    "# To avoid making this cleaning every time, we save teh output as a csv\n",
    "def save_csv(corpus_train, file_name): \n",
    "    df = pd.DataFrame({'text': corpus_train})\n",
    "    df.to_csv(file_name) \n",
    "    \n",
    "train['ABSTRACT'] = train['TITLE'] +train['ABSTRACT']\n",
    "corpus_train = normalize(train)\n",
    "save_csv(corpus_train, 'preprocessed_train.csv')\n",
    "\n",
    "test['ABSTRACT'] = test['TITLE'] + test['ABSTRACT']\n",
    "corpus_test = normalize(test)\n",
    "save_csv(corpus_test, 'preprocessed_test.csv')\n"
   ]
  },
  {
   "cell_type": "markdown",
   "metadata": {},
   "source": [
    "# Split input and output"
   ]
  },
  {
   "cell_type": "code",
   "execution_count": 6,
   "metadata": {},
   "outputs": [],
   "source": [
    "def get_input(preprocessed, x_col_name): \n",
    "    vectorizer = CountVectorizer(max_features = 1500)\n",
    "\n",
    "    X_array = preprocessed.loc[:,x_col_name]\n",
    "    X = vectorizer.fit_transform(X_array).toarray()\n",
    "    return X\n",
    "\n",
    "def get_outputs(df, y_cols_name):\n",
    "    y = []\n",
    "    for col_name in y_cols_name: \n",
    "        col_values = df.loc[:,col_name].values\n",
    "        y.append(col_values)\n",
    "    return y\n",
    "\n",
    "\n",
    "preprocessed = pd.read_csv('preprocessed_train.csv')\n",
    "preprocessed_submission = pd.read_csv('preprocessed_test.csv')\n",
    "y_columns = train.columns[3:]\n",
    "X = get_input(preprocessed, 'text')\n",
    "y = get_outputs(train, y_columns)\n",
    "X_submission = get_input(preprocessed_submission, 'text')"
   ]
  },
  {
   "cell_type": "markdown",
   "metadata": {},
   "source": [
    "# Split train and test sets"
   ]
  },
  {
   "cell_type": "code",
   "execution_count": 7,
   "metadata": {},
   "outputs": [
    {
     "name": "stdout",
     "output_type": "stream",
     "text": [
      "(16777, 1500) (16777,)\n",
      "(4195, 1500) (4195,)\n",
      "Index(['Computer Science', 'Physics', 'Mathematics', 'Statistics',\n",
      "       'Quantitative Biology', 'Quantitative Finance'],\n",
      "      dtype='object')\n"
     ]
    }
   ],
   "source": [
    "y_train_test = []\n",
    "for i in range(len(y_columns)): \n",
    "    X_train, X_test, y_train, y_test = train_test_split(X, y[i], test_size = 0.20, random_state = 0)\n",
    "    y_train_test.append([y_train, y_test])\n",
    "\n",
    "print(X_train.shape, y_train.shape)\n",
    "print(X_test.shape, y_test.shape)\n",
    "print(y_columns)"
   ]
  },
  {
   "cell_type": "markdown",
   "metadata": {},
   "source": [
    "# Train the model and generate results"
   ]
  },
  {
   "cell_type": "code",
   "execution_count": 8,
   "metadata": {},
   "outputs": [],
   "source": [
    "def print_statistics(y_test, y_pred, column_name): \n",
    "   # print(confusion_matrix(y_test, y_pred))\n",
    "    print('Accuracy: ', accuracy_score(y_test, y_pred))\n",
    "    print('Precision: ', precision_score(y_test, y_pred))\n",
    "    print('Recall: ', recall_score(y_test, y_pred))\n",
    "    print('F1: ', f1_score(y_test, y_pred))\n",
    "    print()\n",
    "    \n",
    "def get_statistics(y_test, y_pred, column_name): \n",
    "    return [accuracy_score(y_test, y_pred),precision_score(y_test, y_pred),recall_score(y_test, y_pred),f1_score(y_test, y_pred)]"
   ]
  },
  {
   "cell_type": "markdown",
   "metadata": {},
   "source": [
    "# Statistics over NBGaussian"
   ]
  },
  {
   "cell_type": "code",
   "execution_count": 11,
   "metadata": {},
   "outputs": [],
   "source": [
    "def prepare_statistic(df):\n",
    "    x = ['Accuracy', 'Precision', 'Recall', 'F1'] \n",
    "    title = df.iloc[1]\n",
    "    y = df.iloc[2:].tolist()\n",
    "    return x, y, title\n",
    "\n",
    "\n",
    "def plot_statistics(stats): \n",
    "    fig, axs = plt.subplots(2, 3, sharex=True, sharey=True) \n",
    "    fig.set_figwidth(20)\n",
    "    fig.set_figheight(7)\n",
    "    for i in range(2): \n",
    "        for j in range(3): \n",
    "            index = i*3 + j \n",
    "            df = stats[index]\n",
    "            x, y, title = prepare_statistic(df) \n",
    "            axs[i,j].bar(x,y)\n",
    "            axs[i,j].set_title(title)\n",
    "    plt.show()\n",
    "            \n",
    "def plot_time(arr, title):\n",
    "    x = ['Computer Science', 'Physics', 'Mathematics', 'Statistics', 'Quantative Biology', 'Quantitative Finance']\n",
    "    y = arr \n",
    "    fig = plt.figure()\n",
    "    fig.set_figwidth(15)\n",
    "    fig.set_figheight(5)\n",
    "    plt.bar(x,y)\n",
    "    plt.title(title)\n",
    "    plt.show()\n",
    "    \n",
    "times = {}"
   ]
  },
  {
   "cell_type": "code",
   "execution_count": 12,
   "metadata": {},
   "outputs": [
    {
     "name": "stdout",
     "output_type": "stream",
     "text": [
      "LABEL ::  Computer Science\n",
      "Accuracy:  0.769249106078665\n",
      "Precision:  0.6594083812654067\n",
      "Recall:  0.9202981651376146\n",
      "F1:  0.7683101962661559\n",
      "\n",
      "LABEL ::  Physics\n",
      "Accuracy:  0.8982121573301549\n",
      "Precision:  0.8029944838455477\n",
      "Recall:  0.8520066889632107\n",
      "F1:  0.8267748478701827\n",
      "\n",
      "LABEL ::  Mathematics\n",
      "Accuracy:  0.8011918951132301\n",
      "Precision:  0.5714285714285714\n",
      "Recall:  0.8967441860465116\n",
      "F1:  0.6980448950036205\n",
      "\n",
      "LABEL ::  Statistics\n",
      "Accuracy:  0.6598331346841478\n",
      "Precision:  0.4120999561595791\n",
      "Recall:  0.9161793372319688\n",
      "F1:  0.5684910795282734\n",
      "\n",
      "LABEL ::  Quantitative Biology\n",
      "Accuracy:  0.6474374255065555\n",
      "Precision:  0.054866100587851074\n",
      "Recall:  0.7241379310344828\n",
      "F1:  0.10200364298724954\n",
      "\n",
      "LABEL ::  Quantitative Finance\n",
      "Accuracy:  0.899880810488677\n",
      "Precision:  0.05952380952380952\n",
      "Recall:  0.5\n",
      "F1:  0.10638297872340424\n",
      "\n"
     ]
    },
    {
     "data": {
      "image/png": "[encoded data removed]",
      "text/plain": [
       "<Figure size 1440x504 with 6 Axes>"
      ]
     },
     "metadata": {
      "needs_background": "light"
     },
     "output_type": "display_data"
    },
    {
     "data": {
      "image/png": "[encoded data removed]",
      "text/plain": [
       "<Figure size 1080x360 with 1 Axes>"
      ]
     },
     "metadata": {
      "needs_background": "light"
     },
     "output_type": "display_data"
    }
   ],
   "source": [
    "classifier = GaussianNB()\n",
    "gaussian_df = pd.DataFrame()\n",
    "gaussian_submission_df = pd.DataFrame() \n",
    "time_nb = []\n",
    "stats_nb = []\n",
    "for i in range(len(y_columns)): \n",
    "    col_name = y_columns[i]\n",
    "    print(\"LABEL :: \", col_name)\n",
    "    y_train = y_train_test[i][0]\n",
    "    y_test = y_train_test[i][1]\n",
    "    \n",
    "    begin = time.time()\n",
    "    classifier.fit(X_train, y_train)\n",
    "    end = time.time()\n",
    "    \n",
    "    gaussian_df[col_name]= classifier.predict(X_test)\n",
    "    gaussian_submission_df[col_name] = classifier.predict(X_submission)\n",
    "    \n",
    "    print_statistics(y_test, gaussian_df[col_name].values, col_name)\n",
    "    stat_array = get_statistics(y_test, gaussian_df[col_name].values, col_name)\n",
    "    stats_nb.append(pd.Series(['Naive Bayes',col_name,stat_array[0],stat_array[1],stat_array[2],stat_array[3]]))\n",
    "    time_nb.append(end-begin) \n",
    "\n",
    "\n",
    "plot_statistics(stats_nb)\n",
    "times['nb'] = time_nb\n",
    "plot_time(time_nb, \"Gaussian NB Time\")\n"
   ]
  },
  {
   "cell_type": "code",
   "execution_count": 13,
   "metadata": {},
   "outputs": [
    {
     "name": "stdout",
     "output_type": "stream",
     "text": [
      "LABEL ::  Computer Science\n"
     ]
    },
    {
     "name": "stderr",
     "output_type": "stream",
     "text": [
      "C:\\Users\\julia\\anaconda3\\lib\\site-packages\\sklearn\\svm\\_base.py:985: ConvergenceWarning: Liblinear failed to converge, increase the number of iterations.\n",
      "  warnings.warn(\"Liblinear failed to converge, increase \"\n"
     ]
    },
    {
     "name": "stdout",
     "output_type": "stream",
     "text": [
      "Accuracy:  0.831704410011919\n",
      "Precision:  0.8092967818831943\n",
      "Recall:  0.7786697247706422\n",
      "F1:  0.7936879018118062\n",
      "\n",
      "\n",
      "LABEL ::  Physics\n"
     ]
    },
    {
     "name": "stderr",
     "output_type": "stream",
     "text": [
      "C:\\Users\\julia\\anaconda3\\lib\\site-packages\\sklearn\\svm\\_base.py:985: ConvergenceWarning: Liblinear failed to converge, increase the number of iterations.\n",
      "  warnings.warn(\"Liblinear failed to converge, increase \"\n"
     ]
    },
    {
     "name": "stdout",
     "output_type": "stream",
     "text": [
      "Accuracy:  0.9087008343265792\n",
      "Precision:  0.8513396715643907\n",
      "Recall:  0.8235785953177257\n",
      "F1:  0.8372290692732682\n",
      "\n",
      "\n",
      "LABEL ::  Mathematics\n"
     ]
    },
    {
     "name": "stderr",
     "output_type": "stream",
     "text": [
      "C:\\Users\\julia\\anaconda3\\lib\\site-packages\\sklearn\\svm\\_base.py:985: ConvergenceWarning: Liblinear failed to converge, increase the number of iterations.\n",
      "  warnings.warn(\"Liblinear failed to converge, increase \"\n"
     ]
    },
    {
     "name": "stdout",
     "output_type": "stream",
     "text": [
      "Accuracy:  0.8800953516090584\n",
      "Precision:  0.7553571428571428\n",
      "Recall:  0.7869767441860465\n",
      "F1:  0.7708428246013667\n",
      "\n",
      "\n",
      "LABEL ::  Statistics\n"
     ]
    },
    {
     "name": "stderr",
     "output_type": "stream",
     "text": [
      "C:\\Users\\julia\\anaconda3\\lib\\site-packages\\sklearn\\svm\\_base.py:985: ConvergenceWarning: Liblinear failed to converge, increase the number of iterations.\n",
      "  warnings.warn(\"Liblinear failed to converge, increase \"\n"
     ]
    },
    {
     "name": "stdout",
     "output_type": "stream",
     "text": [
      "Accuracy:  0.8579261025029797\n",
      "Precision:  0.722567287784679\n",
      "Recall:  0.6803118908382066\n",
      "F1:  0.7008032128514056\n",
      "\n",
      "\n",
      "LABEL ::  Quantitative Biology\n"
     ]
    },
    {
     "name": "stderr",
     "output_type": "stream",
     "text": [
      "C:\\Users\\julia\\anaconda3\\lib\\site-packages\\sklearn\\svm\\_base.py:985: ConvergenceWarning: Liblinear failed to converge, increase the number of iterations.\n",
      "  warnings.warn(\"Liblinear failed to converge, increase \"\n"
     ]
    },
    {
     "name": "stdout",
     "output_type": "stream",
     "text": [
      "Accuracy:  0.9492252681764005\n",
      "Precision:  0.21965317919075145\n",
      "Recall:  0.3275862068965517\n",
      "F1:  0.2629757785467128\n",
      "\n",
      "\n",
      "LABEL ::  Quantitative Finance\n",
      "Accuracy:  0.9868891537544696\n",
      "Precision:  0.4418604651162791\n",
      "Recall:  0.38\n",
      "F1:  0.40860215053763443\n",
      "\n",
      "\n"
     ]
    },
    {
     "data": {
      "image/png": "[encoded data removed]",
      "text/plain": [
       "<Figure size 1440x504 with 6 Axes>"
      ]
     },
     "metadata": {
      "needs_background": "light"
     },
     "output_type": "display_data"
    },
    {
     "data": {
      "image/png": "[encoded data removed]",
      "text/plain": [
       "<Figure size 1080x360 with 1 Axes>"
      ]
     },
     "metadata": {
      "needs_background": "light"
     },
     "output_type": "display_data"
    }
   ],
   "source": [
    "# SVM\n",
    "\n",
    "from sklearn.svm import LinearSVC\n",
    "\n",
    "\n",
    "classifier = LinearSVC()\n",
    "gaussian_df = pd.DataFrame()\n",
    "gaussian_submission_df = pd.DataFrame() \n",
    "time_svm = []\n",
    "stats_svm = []\n",
    "for i in range(len(y_columns)): \n",
    "    col_name = y_columns[i]\n",
    "    print(\"LABEL :: \", col_name)\n",
    "    y_train = y_train_test[i][0]\n",
    "    y_test = y_train_test[i][1]\n",
    "    \n",
    "    begin = time.time()\n",
    "    classifier.fit(X_train, y_train)\n",
    "    end = time.time()\n",
    "    gaussian_df[col_name]= classifier.predict(X_test)\n",
    "    gaussian_submission_df[col_name] = classifier.predict(X_submission)\n",
    "    print_statistics(y_test, gaussian_df[col_name].values, col_name)\n",
    "    stat_array = get_statistics(y_test, gaussian_df[col_name].values, col_name)\n",
    "    print()\n",
    "    stats_svm.append(pd.Series(['Support Vector Machines',col_name,stat_array[0],stat_array[1],stat_array[2],stat_array[3]]))\n",
    "    time_svm.append(end-begin)\n",
    "    \n",
    "plot_statistics(stats_svm)\n",
    "times['svm'] = time_svm\n",
    "plot_time(time_svm, \"Linear SVC Time\")"
   ]
  },
  {
   "cell_type": "code",
   "execution_count": 14,
   "metadata": {},
   "outputs": [
    {
     "name": "stdout",
     "output_type": "stream",
     "text": [
      "LABEL ::  Computer Science\n"
     ]
    },
    {
     "name": "stderr",
     "output_type": "stream",
     "text": [
      "C:\\Users\\julia\\anaconda3\\lib\\site-packages\\sklearn\\linear_model\\_logistic.py:763: ConvergenceWarning: lbfgs failed to converge (status=1):\n",
      "STOP: TOTAL NO. of ITERATIONS REACHED LIMIT.\n",
      "\n",
      "Increase the number of iterations (max_iter) or scale the data as shown in:\n",
      "    https://scikit-learn.org/stable/modules/preprocessing.html\n",
      "Please also refer to the documentation for alternative solver options:\n",
      "    https://scikit-learn.org/stable/modules/linear_model.html#logistic-regression\n",
      "  n_iter_i = _check_optimize_result(\n"
     ]
    },
    {
     "name": "stdout",
     "output_type": "stream",
     "text": [
      "Accuracy:  0.8348033373063171\n",
      "Precision:  0.8141063956963539\n",
      "Recall:  0.7809633027522935\n",
      "F1:  0.797190517998244\n",
      "\n",
      "\n",
      "LABEL ::  Physics\n"
     ]
    },
    {
     "name": "stderr",
     "output_type": "stream",
     "text": [
      "C:\\Users\\julia\\anaconda3\\lib\\site-packages\\sklearn\\linear_model\\_logistic.py:763: ConvergenceWarning: lbfgs failed to converge (status=1):\n",
      "STOP: TOTAL NO. of ITERATIONS REACHED LIMIT.\n",
      "\n",
      "Increase the number of iterations (max_iter) or scale the data as shown in:\n",
      "    https://scikit-learn.org/stable/modules/preprocessing.html\n",
      "Please also refer to the documentation for alternative solver options:\n",
      "    https://scikit-learn.org/stable/modules/linear_model.html#logistic-regression\n",
      "  n_iter_i = _check_optimize_result(\n"
     ]
    },
    {
     "name": "stdout",
     "output_type": "stream",
     "text": [
      "Accuracy:  0.9115613825983313\n",
      "Precision:  0.8565254969749352\n",
      "Recall:  0.8285953177257525\n",
      "F1:  0.8423289417764556\n",
      "\n",
      "\n",
      "LABEL ::  Mathematics\n"
     ]
    },
    {
     "name": "stderr",
     "output_type": "stream",
     "text": [
      "C:\\Users\\julia\\anaconda3\\lib\\site-packages\\sklearn\\linear_model\\_logistic.py:763: ConvergenceWarning: lbfgs failed to converge (status=1):\n",
      "STOP: TOTAL NO. of ITERATIONS REACHED LIMIT.\n",
      "\n",
      "Increase the number of iterations (max_iter) or scale the data as shown in:\n",
      "    https://scikit-learn.org/stable/modules/preprocessing.html\n",
      "Please also refer to the documentation for alternative solver options:\n",
      "    https://scikit-learn.org/stable/modules/linear_model.html#logistic-regression\n",
      "  n_iter_i = _check_optimize_result(\n"
     ]
    },
    {
     "name": "stdout",
     "output_type": "stream",
     "text": [
      "Accuracy:  0.8815256257449344\n",
      "Precision:  0.7594254937163375\n",
      "Recall:  0.7869767441860465\n",
      "F1:  0.7729556875285517\n",
      "\n",
      "\n",
      "LABEL ::  Statistics\n"
     ]
    },
    {
     "name": "stderr",
     "output_type": "stream",
     "text": [
      "C:\\Users\\julia\\anaconda3\\lib\\site-packages\\sklearn\\linear_model\\_logistic.py:763: ConvergenceWarning: lbfgs failed to converge (status=1):\n",
      "STOP: TOTAL NO. of ITERATIONS REACHED LIMIT.\n",
      "\n",
      "Increase the number of iterations (max_iter) or scale the data as shown in:\n",
      "    https://scikit-learn.org/stable/modules/preprocessing.html\n",
      "Please also refer to the documentation for alternative solver options:\n",
      "    https://scikit-learn.org/stable/modules/linear_model.html#logistic-regression\n",
      "  n_iter_i = _check_optimize_result(\n"
     ]
    },
    {
     "name": "stdout",
     "output_type": "stream",
     "text": [
      "Accuracy:  0.8588796185935638\n",
      "Precision:  0.7269874476987448\n",
      "Recall:  0.6773879142300195\n",
      "F1:  0.7013118062563068\n",
      "\n",
      "\n",
      "LABEL ::  Quantitative Biology\n"
     ]
    },
    {
     "name": "stderr",
     "output_type": "stream",
     "text": [
      "C:\\Users\\julia\\anaconda3\\lib\\site-packages\\sklearn\\linear_model\\_logistic.py:763: ConvergenceWarning: lbfgs failed to converge (status=1):\n",
      "STOP: TOTAL NO. of ITERATIONS REACHED LIMIT.\n",
      "\n",
      "Increase the number of iterations (max_iter) or scale the data as shown in:\n",
      "    https://scikit-learn.org/stable/modules/preprocessing.html\n",
      "Please also refer to the documentation for alternative solver options:\n",
      "    https://scikit-learn.org/stable/modules/linear_model.html#logistic-regression\n",
      "  n_iter_i = _check_optimize_result(\n"
     ]
    },
    {
     "name": "stdout",
     "output_type": "stream",
     "text": [
      "Accuracy:  0.9623361144219309\n",
      "Precision:  0.31896551724137934\n",
      "Recall:  0.31896551724137934\n",
      "F1:  0.31896551724137934\n",
      "\n",
      "\n",
      "LABEL ::  Quantitative Finance\n",
      "Accuracy:  0.9897497020262217\n",
      "Precision:  0.6060606060606061\n",
      "Recall:  0.4\n",
      "F1:  0.4819277108433735\n",
      "\n",
      "\n"
     ]
    },
    {
     "data": {
      "image/png": "[encoded data removed]",
      "text/plain": [
       "<Figure size 1440x504 with 6 Axes>"
      ]
     },
     "metadata": {
      "needs_background": "light"
     },
     "output_type": "display_data"
    },
    {
     "data": {
      "image/png": "[encoded data removed]",
      "text/plain": [
       "<Figure size 1080x360 with 1 Axes>"
      ]
     },
     "metadata": {
      "needs_background": "light"
     },
     "output_type": "display_data"
    }
   ],
   "source": [
    "# Logistic Regression\n",
    "\n",
    "from sklearn.linear_model import LogisticRegression\n",
    "\n",
    "classifier = LogisticRegression()\n",
    "gaussian_df = pd.DataFrame()\n",
    "gaussian_submission_df = pd.DataFrame() \n",
    "\n",
    "time_lr = []\n",
    "stats_lr = []\n",
    "for i in range(len(y_columns)): \n",
    "    col_name = y_columns[i]\n",
    "    print(\"LABEL :: \", col_name)\n",
    "    y_train = y_train_test[i][0]\n",
    "    y_test = y_train_test[i][1]\n",
    "    \n",
    "    begin = time.time()\n",
    "    classifier.fit(X_train, y_train)\n",
    "    end = time.time()\n",
    "    gaussian_df[col_name]= classifier.predict(X_test)\n",
    "    gaussian_submission_df[col_name] = classifier.predict(X_submission)\n",
    "    print_statistics(y_test, gaussian_df[col_name].values, col_name)\n",
    "    stat_array = get_statistics(y_test, gaussian_df[col_name].values, col_name)\n",
    "    print()\n",
    "    stats_lr.append(pd.Series(['Logistic Regression',col_name,stat_array[0],stat_array[1],stat_array[2],stat_array[3]]))\n",
    "    time_lr.append(end-begin)\n",
    "    \n",
    "plot_statistics(stats_lr)\n",
    "times['lr'] = time_lr\n",
    "plot_time(time_lr, \"Logistic Regression Time\")"
   ]
  },
  {
   "cell_type": "code",
   "execution_count": 17,
   "metadata": {},
   "outputs": [
    {
     "name": "stdout",
     "output_type": "stream",
     "text": [
      "LABEL ::  Computer Science\n",
      "Accuracy:  0.8019070321811681\n",
      "Precision:  0.7529085872576178\n",
      "Recall:  0.779243119266055\n",
      "F1:  0.7658495350803043\n",
      "\n",
      "\n",
      "LABEL ::  Physics\n",
      "Accuracy:  0.9072705601907032\n",
      "Precision:  0.8524017467248908\n",
      "Recall:  0.8160535117056856\n",
      "F1:  0.8338316958564717\n",
      "\n",
      "\n",
      "LABEL ::  Mathematics\n",
      "Accuracy:  0.8791418355184744\n",
      "Precision:  0.7736030828516378\n",
      "Recall:  0.7469767441860465\n",
      "F1:  0.7600567912920019\n",
      "\n",
      "\n",
      "LABEL ::  Statistics\n",
      "Accuracy:  0.8269368295589988\n",
      "Precision:  0.6609442060085837\n",
      "Recall:  0.6003898635477583\n",
      "F1:  0.6292134831460674\n",
      "\n",
      "\n",
      "LABEL ::  Quantitative Biology\n",
      "Accuracy:  0.9511323003575686\n",
      "Precision:  0.23353293413173654\n",
      "Recall:  0.33620689655172414\n",
      "F1:  0.2756183745583039\n",
      "\n",
      "\n",
      "LABEL ::  Quantitative Finance\n",
      "Accuracy:  0.9854588796185936\n",
      "Precision:  0.39622641509433965\n",
      "Recall:  0.42\n",
      "F1:  0.4077669902912621\n",
      "\n",
      "\n"
     ]
    },
    {
     "data": {
      "image/png": "[encoded data removed]",
      "text/plain": [
       "<Figure size 1440x504 with 6 Axes>"
      ]
     },
     "metadata": {
      "needs_background": "light"
     },
     "output_type": "display_data"
    },
    {
     "data": {
      "image/png": "[encoded data removed]",
      "text/plain": [
       "<Figure size 1080x360 with 1 Axes>"
      ]
     },
     "metadata": {
      "needs_background": "light"
     },
     "output_type": "display_data"
    }
   ],
   "source": [
    "# Perceptron\n",
    "\n",
    "from sklearn.linear_model import Perceptron\n",
    "\n",
    "classifier = Perceptron()\n",
    "gaussian_df = pd.DataFrame()\n",
    "gaussian_submission_df = pd.DataFrame() \n",
    "\n",
    "stats_p = []\n",
    "time_p = []\n",
    "for i in range(len(y_columns)): \n",
    "    col_name = y_columns[i]\n",
    "    print(\"LABEL :: \", col_name)\n",
    "    y_train = y_train_test[i][0]\n",
    "    y_test = y_train_test[i][1]\n",
    "    \n",
    "    begin = time.time()\n",
    "    classifier.fit(X_train, y_train)\n",
    "    end = time.time()\n",
    "    gaussian_df[col_name]= classifier.predict(X_test)\n",
    "    gaussian_submission_df[col_name] = classifier.predict(X_submission)\n",
    "    print_statistics(y_test, gaussian_df[col_name].values, col_name)\n",
    "    stat_array = get_statistics(y_test, gaussian_df[col_name].values, col_name)\n",
    "    print()\n",
    "    stats_p.append(pd.Series(['Perceptron',col_name,stat_array[0],stat_array[1],stat_array[2],stat_array[3]]))\n",
    "    time_p.append(end-begin)\n",
    "\n",
    "\n",
    "plot_statistics(stats_p)\n",
    "times['p'] = time_p\n",
    "plot_time(time_p, \"Perceptron Time\")"
   ]
  },
  {
   "cell_type": "code",
   "execution_count": 16,
   "metadata": {},
   "outputs": [
    {
     "name": "stdout",
     "output_type": "stream",
     "text": [
      "LABEL ::  Computer Science\n",
      "Accuracy:  0.7625744934445768\n",
      "Precision:  0.7142038946162658\n",
      "Recall:  0.7150229357798165\n",
      "F1:  0.7146131805157594\n",
      "\n",
      "\n",
      "LABEL ::  Physics\n",
      "Accuracy:  0.8607866507747318\n",
      "Precision:  0.7602040816326531\n",
      "Recall:  0.7474916387959866\n",
      "F1:  0.7537942664418211\n",
      "\n",
      "\n",
      "LABEL ::  Mathematics\n",
      "Accuracy:  0.8269368295589988\n",
      "Precision:  0.6587807097361238\n",
      "Recall:  0.6734883720930233\n",
      "F1:  0.6660533578656853\n",
      "\n",
      "\n",
      "LABEL ::  Statistics\n",
      "Accuracy:  0.8133492252681764\n",
      "Precision:  0.6167146974063401\n",
      "Recall:  0.6257309941520468\n",
      "F1:  0.6211901306240929\n",
      "\n",
      "\n",
      "LABEL ::  Quantitative Biology\n",
      "Accuracy:  0.9609058402860549\n",
      "Precision:  0.2692307692307692\n",
      "Recall:  0.2413793103448276\n",
      "F1:  0.2545454545454545\n",
      "\n",
      "\n",
      "LABEL ::  Quantitative Finance\n",
      "Accuracy:  0.9828367103694875\n",
      "Precision:  0.2608695652173913\n",
      "Recall:  0.24\n",
      "F1:  0.24999999999999994\n",
      "\n",
      "\n"
     ]
    },
    {
     "data": {
      "image/png": "[encoded data removed]",
      "text/plain": [
       "<Figure size 1440x504 with 6 Axes>"
      ]
     },
     "metadata": {
      "needs_background": "light"
     },
     "output_type": "display_data"
    },
    {
     "data": {
      "image/png": "[encoded data removed]",
      "text/plain": [
       "<Figure size 1080x360 with 1 Axes>"
      ]
     },
     "metadata": {
      "needs_background": "light"
     },
     "output_type": "display_data"
    }
   ],
   "source": [
    "# Decision Tree\n",
    "\n",
    "from sklearn.tree import DecisionTreeClassifier\n",
    "\n",
    "classifier = DecisionTreeClassifier()\n",
    "gaussian_df = pd.DataFrame()\n",
    "gaussian_submission_df = pd.DataFrame()\n",
    "stats_dt = []\n",
    "time_dt = []\n",
    "for i in range(len(y_columns)): \n",
    "    col_name = y_columns[i]\n",
    "    print(\"LABEL :: \", col_name)\n",
    "    y_train = y_train_test[i][0]\n",
    "    y_test = y_train_test[i][1]\n",
    "    \n",
    "    begin = time.time()\n",
    "    classifier.fit(X_train, y_train)\n",
    "    end = time.time()\n",
    "    gaussian_df[col_name]= classifier.predict(X_test)\n",
    "    gaussian_submission_df[col_name] = classifier.predict(X_submission)\n",
    "    print_statistics(y_test, gaussian_df[col_name].values, col_name)\n",
    "    stat_array = get_statistics(y_test, gaussian_df[col_name].values, col_name)\n",
    "    print()\n",
    "    stats_dt.append(pd.Series(['Decision Tree',col_name,stat_array[0],stat_array[1],stat_array[2],stat_array[3]]))\n",
    "    time_dt.append(end-begin)\n",
    "\n",
    "plot_statistics(stats_dt)\n",
    "times['dt'] = time_dt\n",
    "plot_time(time_dt, \"Decision Tree Time\")"
   ]
  },
  {
   "cell_type": "code",
   "execution_count": null,
   "metadata": {},
   "outputs": [
    {
     "name": "stdout",
     "output_type": "stream",
     "text": [
      "LABEL ::  Computer Science\n",
      "Accuracy:  0.8524433849821216\n",
      "Precision:  0.7968337730870713\n",
      "Recall:  0.8658256880733946\n",
      "F1:  0.8298983237153065\n",
      "\n",
      "\n",
      "LABEL ::  Physics\n"
     ]
    }
   ],
   "source": [
    "# Random Forest\n",
    "\n",
    "from sklearn.ensemble import RandomForestClassifier\n",
    "\n",
    "classifier = RandomForestClassifier()\n",
    "gaussian_df = pd.DataFrame()\n",
    "gaussian_submission_df = pd.DataFrame() \n",
    "stats_rf = []\n",
    "time_rf = []\n",
    "for i in range(len(y_columns)): \n",
    "    col_name = y_columns[i]\n",
    "    print(\"LABEL :: \", col_name)\n",
    "    y_train = y_train_test[i][0]\n",
    "    y_test = y_train_test[i][1]\n",
    "    \n",
    "    begin = time.time()\n",
    "    classifier.fit(X_train, y_train)\n",
    "    end = time.time()\n",
    "    gaussian_df[col_name]= classifier.predict(X_test)\n",
    "    gaussian_submission_df[col_name] = classifier.predict(X_submission)\n",
    "    print_statistics(y_test, gaussian_df[col_name].values, col_name)\n",
    "    stat_array = get_statistics(y_test, gaussian_df[col_name].values, col_name)\n",
    "    print()\n",
    "    stats_rf.append(pd.Series(['Random Forest',col_name,stat_array[0],stat_array[1],stat_array[2],stat_array[3]]))\n",
    "    time_rf.append(end-begin)\n",
    "    \n",
    "plot_statistics(stats_rf)\n",
    "times['rf'] = time_rf\n",
    "plot_time(time_rf, \"Random Forest Time\")"
   ]
  },
  {
   "cell_type": "code",
   "execution_count": 38,
   "metadata": {},
   "outputs": [],
   "source": []
  },
  {
   "cell_type": "code",
   "execution_count": null,
   "metadata": {},
   "outputs": [],
   "source": []
  }
 ],
 "metadata": {
  "kernelspec": {
   "display_name": "Python 3",
   "language": "python",
   "name": "python3"
  }
 },
 "nbformat": 4,
 "nbformat_minor": 2
}
