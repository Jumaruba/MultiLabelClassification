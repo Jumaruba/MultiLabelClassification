{
 "cells": [
  {
   "cell_type": "code",
   "execution_count": 7,
   "metadata": {},
   "outputs": [],
   "source": [
    "import pandas as pd \n",
    "import re\n",
    "import nltk \n",
    "from nltk.stem.porter import PorterStemmer\n",
    "from nltk.corpus import stopwords\n",
    "from sklearn.feature_extraction.text import CountVectorizer\n",
    "from sklearn.model_selection import train_test_split\n",
    "\n",
    "#train models \n",
    "from sklearn.naive_bayes import GaussianNB\n",
    "from sklearn.metrics import confusion_matrix\n",
    "from sklearn.metrics import accuracy_score\n",
    "from sklearn.metrics import precision_score\n",
    "from sklearn.metrics import recall_score\n",
    "from sklearn.metrics import f1_score"
   ]
  },
  {
   "cell_type": "markdown",
   "metadata": {},
   "source": [
    "# Get the data"
   ]
  },
  {
   "cell_type": "code",
   "execution_count": 8,
   "metadata": {},
   "outputs": [],
   "source": [
    "train = pd.read_csv('../data/train.csv')\n",
    "test = pd.read_csv('../data/test.csv')"
   ]
  },
  {
   "cell_type": "markdown",
   "metadata": {},
   "source": [
    "# Studying data"
   ]
  },
  {
   "cell_type": "code",
   "execution_count": null,
   "metadata": {},
   "outputs": [],
   "source": [
    "# What is the most common category \n",
    "cols = train.columns.tolist() \n",
    "print(cols)"
   ]
  },
  {
   "cell_type": "markdown",
   "metadata": {},
   "source": [
    "# Cleaning data"
   ]
  },
  {
   "cell_type": "markdown",
   "metadata": {},
   "source": [
    "## Preprocessing words"
   ]
  },
  {
   "cell_type": "code",
   "execution_count": null,
   "metadata": {
    "tags": []
   },
   "outputs": [],
   "source": [
    "def normalize(df): \n",
    "    corpus = []\n",
    "    ps = PorterStemmer()\n",
    "    df_size = len(df) \n",
    "    for i in range(0,df_size):\n",
    "        # get review and remove non alpha chars\n",
    "        article = re.sub('[^a-zA-Z]', ' ', df['ABSTRACT'][i])\n",
    "        # to lower-case and tokenize\n",
    "        article = article.lower().split()\n",
    "        # stemming and stop word removal\n",
    "        article = ' '.join([ps.stem(w) for w in article if not w in set(stopwords.words('english'))])\n",
    "        corpus.append(article)\n",
    "    return corpus\n",
    "\n",
    "# To avoid making this cleaning every time, we save teh output as a csv\n",
    "def save_csv(corpus_train, file_name): \n",
    "    df = pd.DataFrame({'text': corpus_train})\n",
    "    df.to_csv(file_name) \n",
    "    \n",
    "    \n",
    "#corpus_train = normalize(train)\n",
    "#save_csv(corpus_train, 'preprocessed_train.csv')\n",
    "\n",
    "#corpus_test = normalize(test)\n",
    "#save_csv(corpus_test, 'preprocessed_test.csv')\n"
   ]
  },
  {
   "cell_type": "code",
   "execution_count": null,
   "metadata": {},
   "outputs": [],
   "source": []
  },
  {
   "cell_type": "markdown",
   "metadata": {},
   "source": [
    "# Split input and output"
   ]
  },
  {
   "cell_type": "code",
   "execution_count": 25,
   "metadata": {},
   "outputs": [],
   "source": [
    "def get_input(preprocessed, x_col_name): \n",
    "    vectorizer = CountVectorizer(max_features = 1500)\n",
    "\n",
    "    X_array = preprocessed.loc[:,x_col_name]\n",
    "    X = vectorizer.fit_transform(X_array).toarray()\n",
    "    return X\n",
    "\n",
    "def get_outputs(df, y_cols_name):\n",
    "    y = []\n",
    "    for col_name in y_cols_name: \n",
    "        col_values = df.loc[:,col_name].values\n",
    "        y.append(col_values)\n",
    "    return y\n",
    "\n",
    "\n",
    "preprocessed = pd.read_csv('preprocessed_train.csv')\n",
    "preprocessed_submission = pd.read_csv('preprocessed_test.csv')\n",
    "y_columns = train.columns[3:]\n",
    "X = get_input(preprocessed, 'text')\n",
    "y = get_outputs(train, y_columns)\n",
    "X_submission = get_input(preprocessed_submission, 'text')"
   ]
  },
  {
   "cell_type": "markdown",
   "metadata": {},
   "source": [
    "# Split train and test sets"
   ]
  },
  {
   "cell_type": "code",
   "execution_count": 22,
   "metadata": {},
   "outputs": [
    {
     "name": "stdout",
     "output_type": "stream",
     "text": [
      "(16777, 1500) (16777,)\n",
      "(4195, 1500) (4195,)\n"
     ]
    }
   ],
   "source": [
    "y_train_test = []\n",
    "for i in range(len(y_columns)): \n",
    "    X_train, X_test, y_train, y_test = train_test_split(X, y[i], test_size = 0.20, random_state = 0)\n",
    "    y_train_test.append([y_train, y_test])\n",
    "\n",
    "print(X_train.shape, y_train.shape)\n",
    "print(X_test.shape, y_test.shape)"
   ]
  },
  {
   "cell_type": "markdown",
   "metadata": {},
   "source": [
    "# Train the model and generate results"
   ]
  },
  {
   "cell_type": "code",
   "execution_count": 23,
   "metadata": {},
   "outputs": [],
   "source": [
    "def print_statistics(y_test, y_pred, column_name): \n",
    "    print(confusion_matrix(y_test, y_pred))\n",
    "    print('Accuracy: ', accuracy_score(y_test, y_pred))\n",
    "    print('Precision: ', precision_score(y_test, y_pred))\n",
    "    print('Recall: ', recall_score(y_test, y_pred))\n",
    "    print('F1: ', f1_score(y_test, y_pred))"
   ]
  },
  {
   "cell_type": "code",
   "execution_count": 24,
   "metadata": {},
   "outputs": [
    {
     "name": "stdout",
     "output_type": "stream",
     "text": [
      "COL: Computer Science\n",
      "[[1600  851]\n",
      " [ 142 1602]]\n",
      "Accuracy:  0.7632896305125149\n",
      "Precision:  0.6530778638401957\n",
      "Recall:  0.9185779816513762\n",
      "F1:  0.7634024303073624\n",
      "\n",
      "COL: Physics\n",
      "[[2757  242]\n",
      " [ 182 1014]]\n",
      "Accuracy:  0.8989272943980929\n",
      "Precision:  0.8073248407643312\n",
      "Recall:  0.8478260869565217\n",
      "F1:  0.8270799347471451\n",
      "\n",
      "COL: Mathematics\n",
      "[[2394  726]\n",
      " [ 113  962]]\n",
      "Accuracy:  0.8\n",
      "Precision:  0.5699052132701422\n",
      "Recall:  0.8948837209302326\n",
      "F1:  0.6963445530220775\n",
      "\n",
      "COL: Statistics\n",
      "[[1770 1399]\n",
      " [  80  946]]\n",
      "Accuracy:  0.6474374255065555\n",
      "Precision:  0.40341151385927504\n",
      "Recall:  0.9220272904483431\n",
      "F1:  0.5612577870068228\n",
      "\n",
      "COL: Quantitative Biology\n",
      "[[2521 1558]\n",
      " [  30   86]]\n",
      "Accuracy:  0.6214541120381406\n",
      "Precision:  0.052311435523114354\n",
      "Recall:  0.7413793103448276\n",
      "F1:  0.09772727272727273\n",
      "\n",
      "COL: Quantitative Finance\n",
      "[[3733  412]\n",
      " [  28   22]]\n",
      "Accuracy:  0.8951132300357568\n",
      "Precision:  0.05069124423963134\n",
      "Recall:  0.44\n",
      "F1:  0.09090909090909091\n",
      "\n",
      "8989\n",
      "       Computer Science  Physics  Mathematics  Statistics  \\\n",
      "20973                 0        1            0           0   \n",
      "20974                 1        0            0           0   \n",
      "20975                 0        1            0           0   \n",
      "20976                 0        1            0           0   \n",
      "20977                 0        0            0           0   \n",
      "...                 ...      ...          ...         ...   \n",
      "29957                 0        0            0           0   \n",
      "29958                 1        0            0           1   \n",
      "29959                 0        1            0           0   \n",
      "29960                 0        0            0           0   \n",
      "29961                 1        0            0           1   \n",
      "\n",
      "       Quantitative Biology  Quantitative Finance  \n",
      "20973                     0                     0  \n",
      "20974                     0                     0  \n",
      "20975                     0                     0  \n",
      "20976                     0                     0  \n",
      "20977                     0                     0  \n",
      "...                     ...                   ...  \n",
      "29957                     0                     0  \n",
      "29958                     0                     0  \n",
      "29959                     0                     0  \n",
      "29960                     0                     0  \n",
      "29961                     1                     0  \n",
      "\n",
      "[8989 rows x 6 columns]\n"
     ]
    }
   ],
   "source": [
    "\n",
    "\n",
    "classifier = GaussianNB()\n",
    "gaussian_df = pd.DataFrame()\n",
    "gaussian_submission_df = pd.DataFrame() \n",
    "\n",
    "for i in range(len(y_columns)): \n",
    "    col_name = y_columns[i]\n",
    "    print(\"COL:\", col_name)\n",
    "    y_train = y_train_test[i][0]\n",
    "    y_test = y_train_test[i][1]\n",
    "    \n",
    "    classifier.fit(X_train, y_train)\n",
    "    gaussian_df[col_name]= classifier.predict(X_test)\n",
    "    gaussian_submission_df[col_name] = classifier.predict(X_submission)\n",
    "    print_statistics(y_test, gaussian_df[col_name].values, col_name)\n",
    "    print()\n",
    "\n",
    "index_submission= test.loc[:, 'ID'].values\n",
    "print(len(gaussian_submission_df))\n",
    "gaussian_submission_df = gaussian_submission_df.set_index(pd.Index(index_submission), 'ID')\n",
    "gaussian_df.index.name = \"ID\"    \n",
    "print(gaussian_submission_df)\n",
    "gaussian_df.to_csv(\"submission_gaussian.csv\")"
   ]
  },
  {
   "cell_type": "code",
   "execution_count": 50,
   "metadata": {},
   "outputs": [
    {
     "name": "stdout",
     "output_type": "stream",
     "text": [
      "[[4143    2]\n",
      " [  43    7]]\n",
      "Accuracy:  0.9892729439809297\n",
      "Precision:  0.7777777777777778\n",
      "Recall:  0.14\n",
      "F1:  0.23728813559322035\n"
     ]
    }
   ],
   "source": [
    "# SVM\n",
    "\n",
    "from sklearn.svm import SVC\n",
    "\n",
    "classifier = SVC()\n",
    "classifier.fit(X_train, y_train)\n",
    "y_pred = classifier.predict(X_test)\n",
    "\n",
    "print(confusion_matrix(y_test, y_pred))\n",
    "print('Accuracy: ', accuracy_score(y_test, y_pred))\n",
    "print('Precision: ', precision_score(y_test, y_pred))\n",
    "print('Recall: ', recall_score(y_test, y_pred))\n",
    "print('F1: ', f1_score(y_test, y_pred))"
   ]
  },
  {
   "cell_type": "code",
   "execution_count": 51,
   "metadata": {},
   "outputs": [
    {
     "name": "stdout",
     "output_type": "stream",
     "text": [
      "[[4130   15]\n",
      " [  29   21]]\n",
      "Accuracy:  0.9895113230035757\n",
      "Precision:  0.5833333333333334\n",
      "Recall:  0.42\n",
      "F1:  0.4883720930232558\n"
     ]
    }
   ],
   "source": [
    "# Logistic Regression\n",
    "\n",
    "from sklearn.linear_model import LogisticRegression\n",
    "\n",
    "classifier = LogisticRegression()\n",
    "classifier.fit(X_train, y_train)\n",
    "y_pred = classifier.predict(X_test)\n",
    "\n",
    "print(confusion_matrix(y_test, y_pred))\n",
    "print('Accuracy: ', accuracy_score(y_test, y_pred))\n",
    "print('Precision: ', precision_score(y_test, y_pred))\n",
    "print('Recall: ', recall_score(y_test, y_pred))\n",
    "print('F1: ', f1_score(y_test, y_pred))"
   ]
  },
  {
   "cell_type": "code",
   "execution_count": 52,
   "metadata": {},
   "outputs": [
    {
     "name": "stdout",
     "output_type": "stream",
     "text": [
      "[[4125   20]\n",
      " [  30   20]]\n",
      "Accuracy:  0.9880810488676997\n",
      "Precision:  0.5\n",
      "Recall:  0.4\n",
      "F1:  0.4444444444444445\n"
     ]
    }
   ],
   "source": [
    "# Perceptron\n",
    "\n",
    "from sklearn.linear_model import Perceptron\n",
    "\n",
    "classifier = Perceptron()\n",
    "classifier.fit(X_train, y_train)\n",
    "y_pred = classifier.predict(X_test)\n",
    "\n",
    "print(confusion_matrix(y_test, y_pred))\n",
    "print('Accuracy: ', accuracy_score(y_test, y_pred))\n",
    "print('Precision: ', precision_score(y_test, y_pred))\n",
    "print('Recall: ', recall_score(y_test, y_pred))\n",
    "print('F1: ', f1_score(y_test, y_pred))"
   ]
  },
  {
   "cell_type": "code",
   "execution_count": 53,
   "metadata": {},
   "outputs": [
    {
     "name": "stdout",
     "output_type": "stream",
     "text": [
      "[[4120   25]\n",
      " [  33   17]]\n",
      "Accuracy:  0.9861740166865316\n",
      "Precision:  0.40476190476190477\n",
      "Recall:  0.34\n",
      "F1:  0.36956521739130443\n"
     ]
    }
   ],
   "source": [
    "# Decision Tree\n",
    "\n",
    "from sklearn.tree import DecisionTreeClassifier\n",
    "\n",
    "classifier = DecisionTreeClassifier()\n",
    "classifier.fit(X_train, y_train)\n",
    "y_pred = classifier.predict(X_test)\n",
    "\n",
    "print(confusion_matrix(y_test, y_pred))\n",
    "print('Accuracy: ', accuracy_score(y_test, y_pred))\n",
    "print('Precision: ', precision_score(y_test, y_pred))\n",
    "print('Recall: ', recall_score(y_test, y_pred))\n",
    "print('F1: ', f1_score(y_test, y_pred))"
   ]
  },
  {
   "cell_type": "code",
   "execution_count": 55,
   "metadata": {},
   "outputs": [
    {
     "name": "stdout",
     "output_type": "stream",
     "text": [
      "[[4144    1]\n",
      " [  49    1]]\n",
      "Accuracy:  0.9880810488676997\n",
      "Precision:  0.5\n",
      "Recall:  0.02\n",
      "F1:  0.038461538461538464\n",
      "[0 0 0 ... 0 0 0]\n"
     ]
    }
   ],
   "source": [
    "# Random Forest\n",
    "\n",
    "from sklearn.ensemble import RandomForestClassifier\n",
    "\n",
    "classifier = RandomForestClassifier()\n",
    "classifier.fit(X_train, y_train)\n",
    "y_pred = classifier.predict(X_test)\n",
    "\n",
    "print(confusion_matrix(y_test, y_pred))\n",
    "print('Accuracy: ', accuracy_score(y_test, y_pred))\n",
    "print('Precision: ', precision_score(y_test, y_pred))\n",
    "print('Recall: ', recall_score(y_test, y_pred))\n",
    "print('F1: ', f1_score(y_test, y_pred))"
   ]
  }
 ],
 "metadata": {
  "kernelspec": {
   "display_name": "Python 3",
   "language": "python",
   "name": "python3"
  },
  "language_info": {
   "codemirror_mode": {
    "name": "ipython",
    "version": 3
   },
   "file_extension": ".py",
   "mimetype": "text/x-python",
   "name": "python",
   "nbconvert_exporter": "python",
   "pygments_lexer": "ipython3",
   "version": "3.8.5"
  }
 },
 "nbformat": 4,
 "nbformat_minor": 2
}
