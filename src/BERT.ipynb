{
  "nbformat": 4,
  "nbformat_minor": 0,
  "metadata": {
    "colab": {
      "name": "BERT.ipynb",
      "provenance": []
    },
    "kernelspec": {
      "name": "python3",
      "display_name": "Python 3"
    },
    "language_info": {
      "name": "python"
    },
    "accelerator": "GPU"
  },
  "cells": [
    {
      "cell_type": "code",
      "metadata": {
        "colab": {
          "base_uri": "https://localhost:8080/"
        },
        "id": "hkXsqjNEec81",
        "outputId": "08b31d34-3353-4a88-ac4a-55068321467c"
      },
      "source": [
        "#!pip install tensorflow-text\n",
        "#!pip install tf-models-official\n",
        "#!pip install tensorflow-hub \n",
        "#!pip install pandas \n",
        "#!pip install transformers\n",
        "\n",
        "import os\n",
        "import shutil\n",
        "\n",
        "import tensorflow as tf\n",
        "from nltk.stem.porter import PorterStemmer\n",
        "import tensorflow_hub as hub\n",
        "import tensorflow_text as text\n",
        "from official.nlp import optimization  # to create AdamW optimizer\n",
        "\n",
        "import pandas as pd \n",
        "import re\n",
        "import nltk \n",
        "from nltk.stem.porter import PorterStemmer\n",
        "from nltk.corpus import stopwords\n",
        "from sklearn.feature_extraction.text import CountVectorizer\n",
        "from sklearn.model_selection import train_test_split\n",
        "from transformers import BertTokenizer, BertForSequenceClassification\n",
        "import matplotlib.pyplot as plt\n",
        "\n",
        "#train models \n",
        "from sklearn.naive_bayes import GaussianNB\n",
        "from sklearn.metrics import confusion_matrix\n",
        "from sklearn.metrics import accuracy_score\n",
        "from sklearn.metrics import precision_score\n",
        "from sklearn.metrics import recall_score\n",
        "from sklearn.metrics import f1_score\n",
        "import seaborn as sn\n",
        "import matplotlib.pyplot as plt\n",
        "\n",
        "tf.get_logger().setLevel('ERROR')\n",
        "nltk.download('stopwords')"
      ],
      "execution_count": 46,
      "outputs": [
        {
          "output_type": "stream",
          "text": [
            "Collecting transformers\n",
            "\u001b[?25l  Downloading https://files.pythonhosted.org/packages/b0/9e/5b80becd952d5f7250eaf8fc64b957077b12ccfe73e9c03d37146ab29712/transformers-4.6.0-py3-none-any.whl (2.3MB)\n",
            "\r\u001b[K     |▏                               | 10kB 17.2MB/s eta 0:00:01\r\u001b[K     |▎                               | 20kB 23.1MB/s eta 0:00:01\r\u001b[K     |▍                               | 30kB 28.0MB/s eta 0:00:01\r\u001b[K     |▋                               | 40kB 29.8MB/s eta 0:00:01\r\u001b[K     |▊                               | 51kB 30.3MB/s eta 0:00:01\r\u001b[K     |▉                               | 61kB 31.7MB/s eta 0:00:01\r\u001b[K     |█                               | 71kB 30.9MB/s eta 0:00:01\r\u001b[K     |█▏                              | 81kB 31.9MB/s eta 0:00:01\r\u001b[K     |█▎                              | 92kB 31.9MB/s eta 0:00:01\r\u001b[K     |█▍                              | 102kB 32.4MB/s eta 0:00:01\r\u001b[K     |█▌                              | 112kB 32.4MB/s eta 0:00:01\r\u001b[K     |█▊                              | 122kB 32.4MB/s eta 0:00:01\r\u001b[K     |█▉                              | 133kB 32.4MB/s eta 0:00:01\r\u001b[K     |██                              | 143kB 32.4MB/s eta 0:00:01\r\u001b[K     |██                              | 153kB 32.4MB/s eta 0:00:01\r\u001b[K     |██▎                             | 163kB 32.4MB/s eta 0:00:01\r\u001b[K     |██▍                             | 174kB 32.4MB/s eta 0:00:01\r\u001b[K     |██▌                             | 184kB 32.4MB/s eta 0:00:01\r\u001b[K     |██▋                             | 194kB 32.4MB/s eta 0:00:01\r\u001b[K     |██▉                             | 204kB 32.4MB/s eta 0:00:01\r\u001b[K     |███                             | 215kB 32.4MB/s eta 0:00:01\r\u001b[K     |███                             | 225kB 32.4MB/s eta 0:00:01\r\u001b[K     |███▎                            | 235kB 32.4MB/s eta 0:00:01\r\u001b[K     |███▍                            | 245kB 32.4MB/s eta 0:00:01\r\u001b[K     |███▌                            | 256kB 32.4MB/s eta 0:00:01\r\u001b[K     |███▋                            | 266kB 32.4MB/s eta 0:00:01\r\u001b[K     |███▉                            | 276kB 32.4MB/s eta 0:00:01\r\u001b[K     |████                            | 286kB 32.4MB/s eta 0:00:01\r\u001b[K     |████                            | 296kB 32.4MB/s eta 0:00:01\r\u001b[K     |████▏                           | 307kB 32.4MB/s eta 0:00:01\r\u001b[K     |████▍                           | 317kB 32.4MB/s eta 0:00:01\r\u001b[K     |████▌                           | 327kB 32.4MB/s eta 0:00:01\r\u001b[K     |████▋                           | 337kB 32.4MB/s eta 0:00:01\r\u001b[K     |████▊                           | 348kB 32.4MB/s eta 0:00:01\r\u001b[K     |█████                           | 358kB 32.4MB/s eta 0:00:01\r\u001b[K     |█████                           | 368kB 32.4MB/s eta 0:00:01\r\u001b[K     |█████▏                          | 378kB 32.4MB/s eta 0:00:01\r\u001b[K     |█████▎                          | 389kB 32.4MB/s eta 0:00:01\r\u001b[K     |█████▌                          | 399kB 32.4MB/s eta 0:00:01\r\u001b[K     |█████▋                          | 409kB 32.4MB/s eta 0:00:01\r\u001b[K     |█████▊                          | 419kB 32.4MB/s eta 0:00:01\r\u001b[K     |██████                          | 430kB 32.4MB/s eta 0:00:01\r\u001b[K     |██████                          | 440kB 32.4MB/s eta 0:00:01\r\u001b[K     |██████▏                         | 450kB 32.4MB/s eta 0:00:01\r\u001b[K     |██████▎                         | 460kB 32.4MB/s eta 0:00:01\r\u001b[K     |██████▌                         | 471kB 32.4MB/s eta 0:00:01\r\u001b[K     |██████▋                         | 481kB 32.4MB/s eta 0:00:01\r\u001b[K     |██████▊                         | 491kB 32.4MB/s eta 0:00:01\r\u001b[K     |██████▉                         | 501kB 32.4MB/s eta 0:00:01\r\u001b[K     |███████                         | 512kB 32.4MB/s eta 0:00:01\r\u001b[K     |███████▏                        | 522kB 32.4MB/s eta 0:00:01\r\u001b[K     |███████▎                        | 532kB 32.4MB/s eta 0:00:01\r\u001b[K     |███████▍                        | 542kB 32.4MB/s eta 0:00:01\r\u001b[K     |███████▋                        | 552kB 32.4MB/s eta 0:00:01\r\u001b[K     |███████▊                        | 563kB 32.4MB/s eta 0:00:01\r\u001b[K     |███████▉                        | 573kB 32.4MB/s eta 0:00:01\r\u001b[K     |████████                        | 583kB 32.4MB/s eta 0:00:01\r\u001b[K     |████████▏                       | 593kB 32.4MB/s eta 0:00:01\r\u001b[K     |████████▎                       | 604kB 32.4MB/s eta 0:00:01\r\u001b[K     |████████▍                       | 614kB 32.4MB/s eta 0:00:01\r\u001b[K     |████████▋                       | 624kB 32.4MB/s eta 0:00:01\r\u001b[K     |████████▊                       | 634kB 32.4MB/s eta 0:00:01\r\u001b[K     |████████▉                       | 645kB 32.4MB/s eta 0:00:01\r\u001b[K     |█████████                       | 655kB 32.4MB/s eta 0:00:01\r\u001b[K     |█████████▏                      | 665kB 32.4MB/s eta 0:00:01\r\u001b[K     |█████████▎                      | 675kB 32.4MB/s eta 0:00:01\r\u001b[K     |█████████▍                      | 686kB 32.4MB/s eta 0:00:01\r\u001b[K     |█████████▌                      | 696kB 32.4MB/s eta 0:00:01\r\u001b[K     |█████████▊                      | 706kB 32.4MB/s eta 0:00:01\r\u001b[K     |█████████▉                      | 716kB 32.4MB/s eta 0:00:01\r\u001b[K     |██████████                      | 727kB 32.4MB/s eta 0:00:01\r\u001b[K     |██████████                      | 737kB 32.4MB/s eta 0:00:01\r\u001b[K     |██████████▎                     | 747kB 32.4MB/s eta 0:00:01\r\u001b[K     |██████████▍                     | 757kB 32.4MB/s eta 0:00:01\r\u001b[K     |██████████▌                     | 768kB 32.4MB/s eta 0:00:01\r\u001b[K     |██████████▋                     | 778kB 32.4MB/s eta 0:00:01\r\u001b[K     |██████████▉                     | 788kB 32.4MB/s eta 0:00:01\r\u001b[K     |███████████                     | 798kB 32.4MB/s eta 0:00:01\r\u001b[K     |███████████                     | 808kB 32.4MB/s eta 0:00:01\r\u001b[K     |███████████▎                    | 819kB 32.4MB/s eta 0:00:01\r\u001b[K     |███████████▍                    | 829kB 32.4MB/s eta 0:00:01\r\u001b[K     |███████████▌                    | 839kB 32.4MB/s eta 0:00:01\r\u001b[K     |███████████▋                    | 849kB 32.4MB/s eta 0:00:01\r\u001b[K     |███████████▉                    | 860kB 32.4MB/s eta 0:00:01\r\u001b[K     |████████████                    | 870kB 32.4MB/s eta 0:00:01\r\u001b[K     |████████████                    | 880kB 32.4MB/s eta 0:00:01\r\u001b[K     |████████████▏                   | 890kB 32.4MB/s eta 0:00:01\r\u001b[K     |████████████▍                   | 901kB 32.4MB/s eta 0:00:01\r\u001b[K     |████████████▌                   | 911kB 32.4MB/s eta 0:00:01\r\u001b[K     |████████████▋                   | 921kB 32.4MB/s eta 0:00:01\r\u001b[K     |████████████▊                   | 931kB 32.4MB/s eta 0:00:01\r\u001b[K     |█████████████                   | 942kB 32.4MB/s eta 0:00:01\r\u001b[K     |█████████████                   | 952kB 32.4MB/s eta 0:00:01\r\u001b[K     |█████████████▏                  | 962kB 32.4MB/s eta 0:00:01\r\u001b[K     |█████████████▎                  | 972kB 32.4MB/s eta 0:00:01\r\u001b[K     |█████████████▌                  | 983kB 32.4MB/s eta 0:00:01\r\u001b[K     |█████████████▋                  | 993kB 32.4MB/s eta 0:00:01\r\u001b[K     |█████████████▊                  | 1.0MB 32.4MB/s eta 0:00:01\r\u001b[K     |██████████████                  | 1.0MB 32.4MB/s eta 0:00:01\r\u001b[K     |██████████████                  | 1.0MB 32.4MB/s eta 0:00:01\r\u001b[K     |██████████████▏                 | 1.0MB 32.4MB/s eta 0:00:01\r\u001b[K     |██████████████▎                 | 1.0MB 32.4MB/s eta 0:00:01\r\u001b[K     |██████████████▌                 | 1.1MB 32.4MB/s eta 0:00:01\r\u001b[K     |██████████████▋                 | 1.1MB 32.4MB/s eta 0:00:01\r\u001b[K     |██████████████▊                 | 1.1MB 32.4MB/s eta 0:00:01\r\u001b[K     |██████████████▉                 | 1.1MB 32.4MB/s eta 0:00:01\r\u001b[K     |███████████████                 | 1.1MB 32.4MB/s eta 0:00:01\r\u001b[K     |███████████████▏                | 1.1MB 32.4MB/s eta 0:00:01\r\u001b[K     |███████████████▎                | 1.1MB 32.4MB/s eta 0:00:01\r\u001b[K     |███████████████▍                | 1.1MB 32.4MB/s eta 0:00:01\r\u001b[K     |███████████████▋                | 1.1MB 32.4MB/s eta 0:00:01\r\u001b[K     |███████████████▊                | 1.1MB 32.4MB/s eta 0:00:01\r\u001b[K     |███████████████▉                | 1.2MB 32.4MB/s eta 0:00:01\r\u001b[K     |████████████████                | 1.2MB 32.4MB/s eta 0:00:01\r\u001b[K     |████████████████▏               | 1.2MB 32.4MB/s eta 0:00:01\r\u001b[K     |████████████████▎               | 1.2MB 32.4MB/s eta 0:00:01\r\u001b[K     |████████████████▍               | 1.2MB 32.4MB/s eta 0:00:01\r\u001b[K     |████████████████▋               | 1.2MB 32.4MB/s eta 0:00:01\r\u001b[K     |████████████████▊               | 1.2MB 32.4MB/s eta 0:00:01\r\u001b[K     |████████████████▉               | 1.2MB 32.4MB/s eta 0:00:01\r\u001b[K     |█████████████████               | 1.2MB 32.4MB/s eta 0:00:01\r\u001b[K     |█████████████████▏              | 1.2MB 32.4MB/s eta 0:00:01\r\u001b[K     |█████████████████▎              | 1.3MB 32.4MB/s eta 0:00:01\r\u001b[K     |█████████████████▍              | 1.3MB 32.4MB/s eta 0:00:01\r\u001b[K     |█████████████████▌              | 1.3MB 32.4MB/s eta 0:00:01\r\u001b[K     |█████████████████▊              | 1.3MB 32.4MB/s eta 0:00:01\r\u001b[K     |█████████████████▉              | 1.3MB 32.4MB/s eta 0:00:01\r\u001b[K     |██████████████████              | 1.3MB 32.4MB/s eta 0:00:01\r\u001b[K     |██████████████████              | 1.3MB 32.4MB/s eta 0:00:01\r\u001b[K     |██████████████████▎             | 1.3MB 32.4MB/s eta 0:00:01\r\u001b[K     |██████████████████▍             | 1.3MB 32.4MB/s eta 0:00:01\r\u001b[K     |██████████████████▌             | 1.4MB 32.4MB/s eta 0:00:01\r\u001b[K     |██████████████████▋             | 1.4MB 32.4MB/s eta 0:00:01\r\u001b[K     |██████████████████▉             | 1.4MB 32.4MB/s eta 0:00:01\r\u001b[K     |███████████████████             | 1.4MB 32.4MB/s eta 0:00:01\r\u001b[K     |███████████████████             | 1.4MB 32.4MB/s eta 0:00:01\r\u001b[K     |███████████████████▎            | 1.4MB 32.4MB/s eta 0:00:01\r\u001b[K     |███████████████████▍            | 1.4MB 32.4MB/s eta 0:00:01\r\u001b[K     |███████████████████▌            | 1.4MB 32.4MB/s eta 0:00:01\r\u001b[K     |███████████████████▋            | 1.4MB 32.4MB/s eta 0:00:01\r\u001b[K     |███████████████████▉            | 1.4MB 32.4MB/s eta 0:00:01\r\u001b[K     |████████████████████            | 1.5MB 32.4MB/s eta 0:00:01\r\u001b[K     |████████████████████            | 1.5MB 32.4MB/s eta 0:00:01\r\u001b[K     |████████████████████▏           | 1.5MB 32.4MB/s eta 0:00:01\r\u001b[K     |████████████████████▍           | 1.5MB 32.4MB/s eta 0:00:01\r\u001b[K     |████████████████████▌           | 1.5MB 32.4MB/s eta 0:00:01\r\u001b[K     |████████████████████▋           | 1.5MB 32.4MB/s eta 0:00:01\r\u001b[K     |████████████████████▊           | 1.5MB 32.4MB/s eta 0:00:01\r\u001b[K     |█████████████████████           | 1.5MB 32.4MB/s eta 0:00:01\r\u001b[K     |█████████████████████           | 1.5MB 32.4MB/s eta 0:00:01\r\u001b[K     |█████████████████████▏          | 1.5MB 32.4MB/s eta 0:00:01\r\u001b[K     |█████████████████████▎          | 1.6MB 32.4MB/s eta 0:00:01\r\u001b[K     |█████████████████████▌          | 1.6MB 32.4MB/s eta 0:00:01\r\u001b[K     |█████████████████████▋          | 1.6MB 32.4MB/s eta 0:00:01\r\u001b[K     |█████████████████████▊          | 1.6MB 32.4MB/s eta 0:00:01\r\u001b[K     |█████████████████████▉          | 1.6MB 32.4MB/s eta 0:00:01\r\u001b[K     |██████████████████████          | 1.6MB 32.4MB/s eta 0:00:01\r\u001b[K     |██████████████████████▏         | 1.6MB 32.4MB/s eta 0:00:01\r\u001b[K     |██████████████████████▎         | 1.6MB 32.4MB/s eta 0:00:01\r\u001b[K     |██████████████████████▌         | 1.6MB 32.4MB/s eta 0:00:01\r\u001b[K     |██████████████████████▋         | 1.6MB 32.4MB/s eta 0:00:01\r\u001b[K     |██████████████████████▊         | 1.7MB 32.4MB/s eta 0:00:01\r\u001b[K     |██████████████████████▉         | 1.7MB 32.4MB/s eta 0:00:01\r\u001b[K     |███████████████████████         | 1.7MB 32.4MB/s eta 0:00:01\r\u001b[K     |███████████████████████▏        | 1.7MB 32.4MB/s eta 0:00:01\r\u001b[K     |███████████████████████▎        | 1.7MB 32.4MB/s eta 0:00:01\r\u001b[K     |███████████████████████▍        | 1.7MB 32.4MB/s eta 0:00:01\r\u001b[K     |███████████████████████▋        | 1.7MB 32.4MB/s eta 0:00:01\r\u001b[K     |███████████████████████▊        | 1.7MB 32.4MB/s eta 0:00:01\r\u001b[K     |███████████████████████▉        | 1.7MB 32.4MB/s eta 0:00:01\r\u001b[K     |████████████████████████        | 1.8MB 32.4MB/s eta 0:00:01\r\u001b[K     |████████████████████████▏       | 1.8MB 32.4MB/s eta 0:00:01\r\u001b[K     |████████████████████████▎       | 1.8MB 32.4MB/s eta 0:00:01\r\u001b[K     |████████████████████████▍       | 1.8MB 32.4MB/s eta 0:00:01\r\u001b[K     |████████████████████████▌       | 1.8MB 32.4MB/s eta 0:00:01\r\u001b[K     |████████████████████████▊       | 1.8MB 32.4MB/s eta 0:00:01\r\u001b[K     |████████████████████████▉       | 1.8MB 32.4MB/s eta 0:00:01\r\u001b[K     |█████████████████████████       | 1.8MB 32.4MB/s eta 0:00:01\r\u001b[K     |█████████████████████████▏      | 1.8MB 32.4MB/s eta 0:00:01\r\u001b[K     |█████████████████████████▎      | 1.8MB 32.4MB/s eta 0:00:01\r\u001b[K     |█████████████████████████▍      | 1.9MB 32.4MB/s eta 0:00:01\r\u001b[K     |█████████████████████████▌      | 1.9MB 32.4MB/s eta 0:00:01\r\u001b[K     |█████████████████████████▊      | 1.9MB 32.4MB/s eta 0:00:01\r\u001b[K     |█████████████████████████▉      | 1.9MB 32.4MB/s eta 0:00:01\r\u001b[K     |██████████████████████████      | 1.9MB 32.4MB/s eta 0:00:01\r\u001b[K     |██████████████████████████      | 1.9MB 32.4MB/s eta 0:00:01\r\u001b[K     |██████████████████████████▎     | 1.9MB 32.4MB/s eta 0:00:01\r\u001b[K     |██████████████████████████▍     | 1.9MB 32.4MB/s eta 0:00:01\r\u001b[K     |██████████████████████████▌     | 1.9MB 32.4MB/s eta 0:00:01\r\u001b[K     |██████████████████████████▋     | 1.9MB 32.4MB/s eta 0:00:01\r\u001b[K     |██████████████████████████▉     | 2.0MB 32.4MB/s eta 0:00:01\r\u001b[K     |███████████████████████████     | 2.0MB 32.4MB/s eta 0:00:01\r\u001b[K     |███████████████████████████     | 2.0MB 32.4MB/s eta 0:00:01\r\u001b[K     |███████████████████████████▏    | 2.0MB 32.4MB/s eta 0:00:01\r\u001b[K     |███████████████████████████▍    | 2.0MB 32.4MB/s eta 0:00:01\r\u001b[K     |███████████████████████████▌    | 2.0MB 32.4MB/s eta 0:00:01\r\u001b[K     |███████████████████████████▋    | 2.0MB 32.4MB/s eta 0:00:01\r\u001b[K     |███████████████████████████▉    | 2.0MB 32.4MB/s eta 0:00:01\r\u001b[K     |████████████████████████████    | 2.0MB 32.4MB/s eta 0:00:01\r\u001b[K     |████████████████████████████    | 2.0MB 32.4MB/s eta 0:00:01\r\u001b[K     |████████████████████████████▏   | 2.1MB 32.4MB/s eta 0:00:01\r\u001b[K     |████████████████████████████▍   | 2.1MB 32.4MB/s eta 0:00:01\r\u001b[K     |████████████████████████████▌   | 2.1MB 32.4MB/s eta 0:00:01\r\u001b[K     |████████████████████████████▋   | 2.1MB 32.4MB/s eta 0:00:01\r\u001b[K     |████████████████████████████▊   | 2.1MB 32.4MB/s eta 0:00:01\r\u001b[K     |█████████████████████████████   | 2.1MB 32.4MB/s eta 0:00:01\r\u001b[K     |█████████████████████████████   | 2.1MB 32.4MB/s eta 0:00:01\r\u001b[K     |█████████████████████████████▏  | 2.1MB 32.4MB/s eta 0:00:01\r\u001b[K     |█████████████████████████████▎  | 2.1MB 32.4MB/s eta 0:00:01\r\u001b[K     |█████████████████████████████▌  | 2.2MB 32.4MB/s eta 0:00:01\r\u001b[K     |█████████████████████████████▋  | 2.2MB 32.4MB/s eta 0:00:01\r\u001b[K     |█████████████████████████████▊  | 2.2MB 32.4MB/s eta 0:00:01\r\u001b[K     |█████████████████████████████▉  | 2.2MB 32.4MB/s eta 0:00:01\r\u001b[K     |██████████████████████████████  | 2.2MB 32.4MB/s eta 0:00:01\r\u001b[K     |██████████████████████████████▏ | 2.2MB 32.4MB/s eta 0:00:01\r\u001b[K     |██████████████████████████████▎ | 2.2MB 32.4MB/s eta 0:00:01\r\u001b[K     |██████████████████████████████▌ | 2.2MB 32.4MB/s eta 0:00:01\r\u001b[K     |██████████████████████████████▋ | 2.2MB 32.4MB/s eta 0:00:01\r\u001b[K     |██████████████████████████████▊ | 2.2MB 32.4MB/s eta 0:00:01\r\u001b[K     |██████████████████████████████▉ | 2.3MB 32.4MB/s eta 0:00:01\r\u001b[K     |███████████████████████████████ | 2.3MB 32.4MB/s eta 0:00:01\r\u001b[K     |███████████████████████████████▏| 2.3MB 32.4MB/s eta 0:00:01\r\u001b[K     |███████████████████████████████▎| 2.3MB 32.4MB/s eta 0:00:01\r\u001b[K     |███████████████████████████████▍| 2.3MB 32.4MB/s eta 0:00:01\r\u001b[K     |███████████████████████████████▋| 2.3MB 32.4MB/s eta 0:00:01\r\u001b[K     |███████████████████████████████▊| 2.3MB 32.4MB/s eta 0:00:01\r\u001b[K     |███████████████████████████████▉| 2.3MB 32.4MB/s eta 0:00:01\r\u001b[K     |████████████████████████████████| 2.3MB 32.4MB/s eta 0:00:01\r\u001b[K     |████████████████████████████████| 2.3MB 32.4MB/s \n",
            "\u001b[?25hRequirement already satisfied: regex!=2019.12.17 in /usr/local/lib/python3.7/dist-packages (from transformers) (2019.12.20)\n",
            "Requirement already satisfied: filelock in /usr/local/lib/python3.7/dist-packages (from transformers) (3.0.12)\n",
            "Requirement already satisfied: numpy>=1.17 in /usr/local/lib/python3.7/dist-packages (from transformers) (1.19.5)\n",
            "Collecting huggingface-hub==0.0.8\n",
            "  Downloading https://files.pythonhosted.org/packages/a1/88/7b1e45720ecf59c6c6737ff332f41c955963090a18e72acbcbeac6b25e86/huggingface_hub-0.0.8-py3-none-any.whl\n",
            "Collecting tokenizers<0.11,>=0.10.1\n",
            "\u001b[?25l  Downloading https://files.pythonhosted.org/packages/ae/04/5b870f26a858552025a62f1649c20d29d2672c02ff3c3fb4c688ca46467a/tokenizers-0.10.2-cp37-cp37m-manylinux2010_x86_64.whl (3.3MB)\n",
            "\u001b[K     |████████████████████████████████| 3.3MB 38.5MB/s \n",
            "\u001b[?25hRequirement already satisfied: importlib-metadata; python_version < \"3.8\" in /usr/local/lib/python3.7/dist-packages (from transformers) (4.0.1)\n",
            "Requirement already satisfied: tqdm>=4.27 in /usr/local/lib/python3.7/dist-packages (from transformers) (4.41.1)\n",
            "Requirement already satisfied: requests in /usr/local/lib/python3.7/dist-packages (from transformers) (2.23.0)\n",
            "Collecting sacremoses\n",
            "\u001b[?25l  Downloading https://files.pythonhosted.org/packages/75/ee/67241dc87f266093c533a2d4d3d69438e57d7a90abb216fa076e7d475d4a/sacremoses-0.0.45-py3-none-any.whl (895kB)\n",
            "\u001b[K     |████████████████████████████████| 901kB 42.1MB/s \n",
            "\u001b[?25hRequirement already satisfied: packaging in /usr/local/lib/python3.7/dist-packages (from transformers) (20.9)\n",
            "Requirement already satisfied: zipp>=0.5 in /usr/local/lib/python3.7/dist-packages (from importlib-metadata; python_version < \"3.8\"->transformers) (3.4.1)\n",
            "Requirement already satisfied: typing-extensions>=3.6.4; python_version < \"3.8\" in /usr/local/lib/python3.7/dist-packages (from importlib-metadata; python_version < \"3.8\"->transformers) (3.7.4.3)\n",
            "Requirement already satisfied: urllib3!=1.25.0,!=1.25.1,<1.26,>=1.21.1 in /usr/local/lib/python3.7/dist-packages (from requests->transformers) (1.24.3)\n",
            "Requirement already satisfied: certifi>=2017.4.17 in /usr/local/lib/python3.7/dist-packages (from requests->transformers) (2020.12.5)\n",
            "Requirement already satisfied: idna<3,>=2.5 in /usr/local/lib/python3.7/dist-packages (from requests->transformers) (2.10)\n",
            "Requirement already satisfied: chardet<4,>=3.0.2 in /usr/local/lib/python3.7/dist-packages (from requests->transformers) (3.0.4)\n",
            "Requirement already satisfied: click in /usr/local/lib/python3.7/dist-packages (from sacremoses->transformers) (7.1.2)\n",
            "Requirement already satisfied: joblib in /usr/local/lib/python3.7/dist-packages (from sacremoses->transformers) (1.0.1)\n",
            "Requirement already satisfied: six in /usr/local/lib/python3.7/dist-packages (from sacremoses->transformers) (1.15.0)\n",
            "Requirement already satisfied: pyparsing>=2.0.2 in /usr/local/lib/python3.7/dist-packages (from packaging->transformers) (2.4.7)\n",
            "Installing collected packages: huggingface-hub, tokenizers, sacremoses, transformers\n",
            "Successfully installed huggingface-hub-0.0.8 sacremoses-0.0.45 tokenizers-0.10.2 transformers-4.6.0\n",
            "[nltk_data] Downloading package stopwords to /root/nltk_data...\n",
            "[nltk_data]   Package stopwords is already up-to-date!\n"
          ],
          "name": "stdout"
        },
        {
          "output_type": "execute_result",
          "data": {
            "text/plain": [
              "True"
            ]
          },
          "metadata": {
            "tags": []
          },
          "execution_count": 46
        }
      ]
    },
    {
      "cell_type": "markdown",
      "metadata": {
        "id": "I6sB8N6Uhkwk"
      },
      "source": [
        "# Loading data"
      ]
    },
    {
      "cell_type": "code",
      "metadata": {
        "colab": {
          "base_uri": "https://localhost:8080/",
          "height": 212
        },
        "id": "PDqJuS48fA3P",
        "outputId": "c8a0aef7-6c62-4cd1-fa55-527ac678425d"
      },
      "source": [
        "from google.colab import drive\n",
        "drive.mount('/content/drive')\n",
        "train = pd.read_csv('/content/drive/Shareddrives/Trabalho IART/Trabalho 2/code/data/test.csv')\n",
        "test = pd.read_csv('/content/drive/Shareddrives/Trabalho IART/Trabalho 2/code/data/test.csv')\n",
        "train.head()"
      ],
      "execution_count": 19,
      "outputs": [
        {
          "output_type": "stream",
          "text": [
            "Drive already mounted at /content/drive; to attempt to forcibly remount, call drive.mount(\"/content/drive\", force_remount=True).\n"
          ],
          "name": "stdout"
        },
        {
          "output_type": "execute_result",
          "data": {
            "text/html": [
              "<div>\n",
              "<style scoped>\n",
              "    .dataframe tbody tr th:only-of-type {\n",
              "        vertical-align: middle;\n",
              "    }\n",
              "\n",
              "    .dataframe tbody tr th {\n",
              "        vertical-align: top;\n",
              "    }\n",
              "\n",
              "    .dataframe thead th {\n",
              "        text-align: right;\n",
              "    }\n",
              "</style>\n",
              "<table border=\"1\" class=\"dataframe\">\n",
              "  <thead>\n",
              "    <tr style=\"text-align: right;\">\n",
              "      <th></th>\n",
              "      <th>ID</th>\n",
              "      <th>TITLE</th>\n",
              "      <th>ABSTRACT</th>\n",
              "    </tr>\n",
              "  </thead>\n",
              "  <tbody>\n",
              "    <tr>\n",
              "      <th>0</th>\n",
              "      <td>20973</td>\n",
              "      <td>Closed-form Marginal Likelihood in Gamma-Poiss...</td>\n",
              "      <td>We present novel understandings of the Gamma...</td>\n",
              "    </tr>\n",
              "    <tr>\n",
              "      <th>1</th>\n",
              "      <td>20974</td>\n",
              "      <td>Laboratory mid-IR spectra of equilibrated and ...</td>\n",
              "      <td>Meteorites contain minerals from Solar Syste...</td>\n",
              "    </tr>\n",
              "    <tr>\n",
              "      <th>2</th>\n",
              "      <td>20975</td>\n",
              "      <td>Case For Static AMSDU Aggregation in WLANs</td>\n",
              "      <td>Frame aggregation is a mechanism by which mu...</td>\n",
              "    </tr>\n",
              "    <tr>\n",
              "      <th>3</th>\n",
              "      <td>20976</td>\n",
              "      <td>The $Gaia$-ESO Survey: the inner disk intermed...</td>\n",
              "      <td>Milky Way open clusters are very diverse in ...</td>\n",
              "    </tr>\n",
              "    <tr>\n",
              "      <th>4</th>\n",
              "      <td>20977</td>\n",
              "      <td>Witness-Functions versus Interpretation-Functi...</td>\n",
              "      <td>Proving that a cryptographic protocol is cor...</td>\n",
              "    </tr>\n",
              "  </tbody>\n",
              "</table>\n",
              "</div>"
            ],
            "text/plain": [
              "      ID  ...                                           ABSTRACT\n",
              "0  20973  ...    We present novel understandings of the Gamma...\n",
              "1  20974  ...    Meteorites contain minerals from Solar Syste...\n",
              "2  20975  ...    Frame aggregation is a mechanism by which mu...\n",
              "3  20976  ...    Milky Way open clusters are very diverse in ...\n",
              "4  20977  ...    Proving that a cryptographic protocol is cor...\n",
              "\n",
              "[5 rows x 3 columns]"
            ]
          },
          "metadata": {
            "tags": []
          },
          "execution_count": 19
        }
      ]
    },
    {
      "cell_type": "markdown",
      "metadata": {
        "id": "qqXwRV98pazd"
      },
      "source": [
        "# Clean text"
      ]
    },
    {
      "cell_type": "code",
      "metadata": {
        "id": "9pkTPTCaofhu"
      },
      "source": [
        "def normalize(df): \n",
        "    corpus = []\n",
        "    ps = PorterStemmer()\n",
        "    df_size = len(df) \n",
        "    for i in range(0,df_size):\n",
        "        # get review and remove non alpha chars\n",
        "        article = re.sub('[^a-zA-Z]', ' ', df['ABSTRACT'][i])\n",
        "        # to lower-case and tokenize\n",
        "        article = article.lower().split()\n",
        "        # stemming and stop word removal\n",
        "        article = ' '.join([ps.stem(w) for w in article if not w in set(stopwords.words('english'))])\n",
        "        corpus.append(article)\n",
        "    return corpus\n",
        "\n",
        "# To avoid making this cleaning every time, we save teh output as a csv\n",
        "def save_csv(corpus_train, file_name): \n",
        "    df = pd.DataFrame({'text': corpus_train})\n",
        "    df.to_csv(file_name) \n",
        "    \n",
        "train['ABSTRACT'] = train['TITLE'] +train['ABSTRACT']\n",
        "corpus_train = normalize(train)\n",
        "\n",
        "test['ABSTRACT'] = test['TITLE'] + test['ABSTRACT']\n",
        "corpus_test = normalize(test)\n"
      ],
      "execution_count": 48,
      "outputs": []
    },
    {
      "cell_type": "markdown",
      "metadata": {
        "id": "D1ZooaDZpo-F"
      },
      "source": [
        "# Preprocess text\n",
        "Before preprocessing let's take a look on the size of the texts."
      ]
    },
    {
      "cell_type": "code",
      "metadata": {
        "colab": {
          "base_uri": "https://localhost:8080/",
          "height": 336
        },
        "id": "jCpVkSDQp-Nc",
        "outputId": "8af245af-7d21-4ba0-9640-3d1f477feabb"
      },
      "source": [
        "# if there's a text really large, we might cut it's size \n",
        "len_abstract = [len(i.split(' ')) for i in train['ABSTRACT']]\n",
        "len_title = [len(i.split(' ')) for i in train['TITLE']]\n",
        "len_text = [len_title[i] + len_abstract[i] for i in range(len(train))]\n",
        "x = [i for i in range(len(train))]\n",
        "\n",
        "fig = plt.figure(figsize=(10, 4))\n",
        "ax = fig.add_axes([0,0,1,1])\n",
        "ax.bar(x, sortlen_text)\n",
        "plt.show()"
      ],
      "execution_count": 37,
      "outputs": [
        {
          "output_type": "display_data",
          "data": {
            "image/png": "[encoded data removed]",
            "text/plain": [
              "<Figure size 720x288 with 1 Axes>"
            ]
          },
          "metadata": {
            "tags": [],
            "needs_background": "light"
          }
        }
      ]
    },
    {
      "cell_type": "markdown",
      "metadata": {
        "id": "Q10ZCrgrp_sZ"
      },
      "source": [
        "What's the media? \n"
      ]
    },
    {
      "cell_type": "code",
      "metadata": {
        "colab": {
          "base_uri": "https://localhost:8080/"
        },
        "id": "oAvOiT-tqKor",
        "outputId": "220d1d95-709f-4354-a671-488da319c1a5"
      },
      "source": [
        "len_text = np.array(len_text)\n",
        "print(\"media\", np.median(len_text))\n",
        "print(\"max\", np.max(len_text))\n",
        "print(\"min\", np.min(len_text))\n",
        "MAX_SIZE = 250"
      ],
      "execution_count": 42,
      "outputs": [
        {
          "output_type": "stream",
          "text": [
            "media 211.0\n",
            "max 587\n",
            "min 29\n"
          ],
          "name": "stdout"
        }
      ]
    },
    {
      "cell_type": "code",
      "metadata": {
        "colab": {
          "base_uri": "https://localhost:8080/"
        },
        "id": "0fSObSyqr-mY",
        "outputId": "16f2edd1-6d62-4408-d66f-07f4f548a95d"
      },
      "source": [
        "# https://towardsdatascience.com/bert-to-the-rescue-17671379687f\n",
        "tokenizer = BertTokenizer.from_pretrained('bert-base-uncased', do_lower_case=True)\n",
        "encodings = tokenizer.batch_encode_plus(corpus_train,max_length=MAX_SIZE,pad_to_max_length=True,truncation=True, return_token_type_ids=True)\n",
        "# encodings is Batch Encoding: https://huggingface.co/transformers/main_classes/tokenizer.html#transformers.BatchEncoding"
      ],
      "execution_count": 55,
      "outputs": [
        {
          "output_type": "stream",
          "text": [
            "/usr/local/lib/python3.7/dist-packages/transformers/tokenization_utils_base.py:2110: FutureWarning: The `pad_to_max_length` argument is deprecated and will be removed in a future version, use `padding=True` or `padding='longest'` to pad to the longest sequence in the batch, or use `padding='max_length'` to pad to a max length. In this case, you can give a specific length with `max_length` (e.g. `max_length=45`) or leave max_length to None to pad to the maximal input size of the model (e.g. 512 for Bert).\n",
            "  FutureWarning,\n"
          ],
          "name": "stderr"
        }
      ]
    },
    {
      "cell_type": "code",
      "metadata": {
        "colab": {
          "base_uri": "https://localhost:8080/"
        },
        "id": "Qnr2QSpuywyk",
        "outputId": "6523980b-ce0e-4a37-b679-a19f7df0ec28"
      },
      "source": [
        "print(encodings.keys())\n",
        "print(\"input_ids\", encodings['input_ids'][0])\n",
        "# List of token type ids to be fed to a model \n",
        "print(\"token_types_ids\", encodings['token_type_ids'][0])\n",
        "# List of indices specifying which tokens should be attended to by the model\n",
        "print(\"attention_mask\", encodings['attention_mask'][0])\n"
      ],
      "execution_count": 56,
      "outputs": [
        {
          "output_type": "stream",
          "text": [
            "dict_keys(['input_ids', 'token_type_ids', 'attention_mask'])\n",
            "input_ids [101, 2485, 2433, 7785, 16593, 13091, 13433, 24077, 8185, 5387, 3989, 20464, 2891, 2433, 7785, 16593, 13091, 13433, 24077, 8185, 5387, 3989, 20464, 2891, 2433, 7785, 16593, 13091, 13433, 24077, 8185, 5387, 3989, 20464, 2891, 2433, 7785, 16593, 13091, 13433, 24077, 8185, 5387, 3989, 20464, 2891, 2433, 7785, 16593, 13091, 13433, 24077, 8185, 5387, 3989, 20464, 2891, 2433, 7785, 16593, 13091, 13433, 24077, 8185, 5387, 3989, 20464, 2891, 2433, 7785, 16593, 13091, 13433, 24077, 8185, 5387, 3989, 20464, 2891, 2433, 7785, 16593, 13091, 13433, 24077, 8185, 5387, 3989, 20464, 2891, 2433, 7785, 16593, 13091, 13433, 24077, 8185, 5387, 2556, 3117, 3305, 13091, 13433, 24077, 6578, 2944, 4013, 3676, 27965, 2102, 8185, 5387, 2944, 4175, 2951, 2265, 6578, 2128, 15773, 2489, 3556, 2552, 12848, 8185, 2507, 2149, 2047, 12369, 9765, 5714, 8476, 4487, 7542, 8486, 8185, 4555, 7785, 16593, 9765, 5714, 3327, 4863, 15873, 9765, 5714, 28699, 10128, 2072, 11748, 2226, 5387, 4635, 9686, 5051, 6895, 11113, 4014, 8285, 18900, 10975, 9816, 20868, 16570, 6777, 4487, 7542, 8486, 5930, 7861, 8197, 2099, 27885, 8043, 2615, 3653, 25500, 2226, 2147, 7785, 2552, 12848, 8185, 2599, 2735, 2047, 18318, 9758, 5987, 20446, 9896, 5684, 5372, 3775, 102, 0, 0, 0, 0, 0, 0, 0, 0, 0, 0, 0, 0, 0, 0, 0, 0, 0, 0, 0, 0, 0, 0, 0, 0, 0, 0, 0, 0, 0, 0, 0, 0, 0, 0, 0, 0, 0, 0, 0, 0, 0, 0, 0, 0, 0, 0, 0, 0, 0, 0, 0, 0, 0, 0, 0, 0]\n",
            "token_types_ids [0, 0, 0, 0, 0, 0, 0, 0, 0, 0, 0, 0, 0, 0, 0, 0, 0, 0, 0, 0, 0, 0, 0, 0, 0, 0, 0, 0, 0, 0, 0, 0, 0, 0, 0, 0, 0, 0, 0, 0, 0, 0, 0, 0, 0, 0, 0, 0, 0, 0, 0, 0, 0, 0, 0, 0, 0, 0, 0, 0, 0, 0, 0, 0, 0, 0, 0, 0, 0, 0, 0, 0, 0, 0, 0, 0, 0, 0, 0, 0, 0, 0, 0, 0, 0, 0, 0, 0, 0, 0, 0, 0, 0, 0, 0, 0, 0, 0, 0, 0, 0, 0, 0, 0, 0, 0, 0, 0, 0, 0, 0, 0, 0, 0, 0, 0, 0, 0, 0, 0, 0, 0, 0, 0, 0, 0, 0, 0, 0, 0, 0, 0, 0, 0, 0, 0, 0, 0, 0, 0, 0, 0, 0, 0, 0, 0, 0, 0, 0, 0, 0, 0, 0, 0, 0, 0, 0, 0, 0, 0, 0, 0, 0, 0, 0, 0, 0, 0, 0, 0, 0, 0, 0, 0, 0, 0, 0, 0, 0, 0, 0, 0, 0, 0, 0, 0, 0, 0, 0, 0, 0, 0, 0, 0, 0, 0, 0, 0, 0, 0, 0, 0, 0, 0, 0, 0, 0, 0, 0, 0, 0, 0, 0, 0, 0, 0, 0, 0, 0, 0, 0, 0, 0, 0, 0, 0, 0, 0, 0, 0, 0, 0, 0, 0, 0, 0, 0, 0, 0, 0, 0, 0, 0, 0, 0, 0, 0, 0, 0, 0]\n",
            "attention_mask [1, 1, 1, 1, 1, 1, 1, 1, 1, 1, 1, 1, 1, 1, 1, 1, 1, 1, 1, 1, 1, 1, 1, 1, 1, 1, 1, 1, 1, 1, 1, 1, 1, 1, 1, 1, 1, 1, 1, 1, 1, 1, 1, 1, 1, 1, 1, 1, 1, 1, 1, 1, 1, 1, 1, 1, 1, 1, 1, 1, 1, 1, 1, 1, 1, 1, 1, 1, 1, 1, 1, 1, 1, 1, 1, 1, 1, 1, 1, 1, 1, 1, 1, 1, 1, 1, 1, 1, 1, 1, 1, 1, 1, 1, 1, 1, 1, 1, 1, 1, 1, 1, 1, 1, 1, 1, 1, 1, 1, 1, 1, 1, 1, 1, 1, 1, 1, 1, 1, 1, 1, 1, 1, 1, 1, 1, 1, 1, 1, 1, 1, 1, 1, 1, 1, 1, 1, 1, 1, 1, 1, 1, 1, 1, 1, 1, 1, 1, 1, 1, 1, 1, 1, 1, 1, 1, 1, 1, 1, 1, 1, 1, 1, 1, 1, 1, 1, 1, 1, 1, 1, 1, 1, 1, 1, 1, 1, 1, 1, 1, 1, 1, 1, 1, 1, 1, 1, 1, 1, 1, 1, 1, 1, 1, 0, 0, 0, 0, 0, 0, 0, 0, 0, 0, 0, 0, 0, 0, 0, 0, 0, 0, 0, 0, 0, 0, 0, 0, 0, 0, 0, 0, 0, 0, 0, 0, 0, 0, 0, 0, 0, 0, 0, 0, 0, 0, 0, 0, 0, 0, 0, 0, 0, 0, 0, 0, 0, 0, 0, 0]\n"
          ],
          "name": "stdout"
        }
      ]
    },
    {
      "cell_type": "markdown",
      "metadata": {
        "id": "XhC4B05JiX28"
      },
      "source": [
        "# Loading BERT"
      ]
    },
    {
      "cell_type": "code",
      "metadata": {
        "colab": {
          "base_uri": "https://localhost:8080/"
        },
        "id": "81P5kdoLfzoo",
        "outputId": "6a57aef1-83da-419a-d3ff-0fde70db0c55"
      },
      "source": [
        "gs_folder_bert = \"gs://cloud-tpu-checkpoints/bert/v3/uncased_L-12_H-768_A-12\"\n",
        "tf.io.gfile.listdir(gs_folder_bert)"
      ],
      "execution_count": 21,
      "outputs": [
        {
          "output_type": "execute_result",
          "data": {
            "text/plain": [
              "['bert_config.json',\n",
              " 'bert_model.ckpt.data-00000-of-00001',\n",
              " 'bert_model.ckpt.index',\n",
              " 'vocab.txt']"
            ]
          },
          "metadata": {
            "tags": []
          },
          "execution_count": 21
        }
      ]
    },
    {
      "cell_type": "markdown",
      "metadata": {
        "id": "FifLZ_dcidiZ"
      },
      "source": [
        "# Get BERT model"
      ]
    }
  ]
}